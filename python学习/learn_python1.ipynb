{
 "cells": [
  {
   "cell_type": "markdown",
   "metadata": {},
   "source": [
    "## 标识符\n",
    "$\\bullet$ 第一个字符必须是字母,数字或者下划线$\\_$  \n",
    "$\\bullet$ 标识符的其他部分由字母、数字和下划组成  \n",
    "$\\bullet$ 标识符对大小写敏感"
   ]
  },
  {
   "cell_type": "markdown",
   "metadata": {},
   "source": [
    "## python 保留字\n",
    "保留字及关键字，我们不能用他们作为标识符名称。"
   ]
  },
  {
   "cell_type": "code",
   "execution_count": 1,
   "metadata": {
    "scrolled": true
   },
   "outputs": [
    {
     "name": "stdout",
     "output_type": "stream",
     "text": [
      "['False', 'None', 'True', 'and', 'as', 'assert', 'break', 'class', 'continue', 'def', 'del', 'elif', 'else', 'except', 'finally', 'for', 'from', 'global', 'if', 'import', 'in', 'is', 'lambda', 'nonlocal', 'not', 'or', 'pass', 'raise', 'return', 'try', 'while', 'with', 'yield']\n"
     ]
    }
   ],
   "source": [
    "import keyword\n",
    "print(keyword.kwlist)"
   ]
  },
  {
   "cell_type": "markdown",
   "metadata": {},
   "source": [
    "## Help 命令\n",
    "对有某个命令不熟悉，可以使用help查看"
   ]
  },
  {
   "cell_type": "code",
   "execution_count": 35,
   "metadata": {},
   "outputs": [
    {
     "name": "stdout",
     "output_type": "stream",
     "text": [
      "Help on built-in function print in module builtins:\n",
      "\n",
      "print(...)\n",
      "    print(value, ..., sep=' ', end='\\n', file=sys.stdout, flush=False)\n",
      "    \n",
      "    Prints the values to a stream, or to sys.stdout by default.\n",
      "    Optional keyword arguments:\n",
      "    file:  a file-like object (stream); defaults to the current sys.stdout.\n",
      "    sep:   string inserted between values, default a space.\n",
      "    end:   string appended after the last value, default a newline.\n",
      "    flush: whether to forcibly flush the stream.\n",
      "\n"
     ]
    }
   ],
   "source": [
    "help(print)"
   ]
  },
  {
   "cell_type": "markdown",
   "metadata": {},
   "source": [
    "## 变量、模块"
   ]
  },
  {
   "cell_type": "code",
   "execution_count": 7,
   "metadata": {
    "collapsed": true
   },
   "outputs": [],
   "source": [
    "usename = \"wo\""
   ]
  },
  {
   "cell_type": "code",
   "execution_count": 10,
   "metadata": {},
   "outputs": [
    {
     "name": "stdout",
     "output_type": "stream",
     "text": [
      "['', '/home/wo/anaconda3/lib/python36.zip', '/home/wo/anaconda3/lib/python3.6', '/home/wo/anaconda3/lib/python3.6/lib-dynload', '/home/wo/anaconda3/lib/python3.6/site-packages', '/home/wo/anaconda3/lib/python3.6/site-packages/Sphinx-1.6.3-py3.6.egg', '/home/wo/anaconda3/lib/python3.6/site-packages/IPython/extensions', '/home/wo/.ipython']\n",
      "---------------------------------------------\n",
      "['/home/wo/anaconda3/lib/python3.6/site-packages/ipykernel_launcher.py', '-f', '/run/user/1000/jupyter/kernel-b8dc8c4d-25d7-4cc9-8b94-770464347297.json']\n"
     ]
    }
   ],
   "source": [
    "import sys\n",
    "print(sys.path)\n",
    "print('---------------------------------------------')\n",
    "print(sys.argv)"
   ]
  },
  {
   "cell_type": "code",
   "execution_count": 4,
   "metadata": {},
   "outputs": [
    {
     "name": "stdout",
     "output_type": "stream",
     "text": [
      "dir  learn_python1.ipynb\n",
      "\n"
     ]
    }
   ],
   "source": [
    "import os\n",
    "# os.system(\"dir\")\n",
    "cmd_res = os.popen(\"dir\").read()  # popen输出为内存对象的地址，加上read命令可以得到地址下的内容\n",
    "print(cmd_res)"
   ]
  },
  {
   "cell_type": "markdown",
   "metadata": {
    "collapsed": true
   },
   "source": [
    "## 简单的交互\n",
    "介绍python中简单的命令行交互与文件交互  \n",
    "**使用input命令接受用户输入**，中间可放提示语，返回类型为字符串类型。\n"
   ]
  },
  {
   "cell_type": "code",
   "execution_count": 5,
   "metadata": {},
   "outputs": [
    {
     "name": "stdout",
     "output_type": "stream",
     "text": [
      "用户名：lizeyang\n"
     ]
    }
   ],
   "source": [
    "username = input(\"用户名：\")"
   ]
  },
  {
   "cell_type": "code",
   "execution_count": 6,
   "metadata": {},
   "outputs": [
    {
     "data": {
      "text/plain": [
       "'lizeyang'"
      ]
     },
     "execution_count": 6,
     "metadata": {},
     "output_type": "execute_result"
    }
   ],
   "source": [
    "username"
   ]
  },
  {
   "cell_type": "code",
   "execution_count": 8,
   "metadata": {},
   "outputs": [
    {
     "name": "stdout",
     "output_type": "stream",
     "text": [
      "密码：········\n"
     ]
    }
   ],
   "source": [
    "import getpass\n",
    "password = getpass.getpass(\"密码：\")"
   ]
  },
  {
   "cell_type": "markdown",
   "metadata": {},
   "source": [
    "**格式化输出**　提供三种格式化输出方式，其输出结果相同"
   ]
  },
  {
   "cell_type": "code",
   "execution_count": 20,
   "metadata": {},
   "outputs": [
    {
     "name": "stdout",
     "output_type": "stream",
     "text": [
      "\n",
      "name:lizeyang\n",
      "password:123\n",
      "\n",
      "\n",
      "name:lizeyang\n",
      "password: 123\n",
      "\n",
      "\n",
      "name:lizeyang\n",
      "password:123\n",
      "\n"
     ]
    }
   ],
   "source": [
    "# 方法一、用%进行格式化输出\n",
    "info1 = '''\n",
    "name:%s\n",
    "password:%s\n",
    "'''%(username,password)\n",
    "print(info1)\n",
    "\n",
    "# 方法二、格式化拼接，使用format进行关联，这里的格式化代号可以自行确定\n",
    "info2 = '''\n",
    "name:{_name1}\n",
    "password: {_password}\n",
    "'''.format(_name1=username,_password=password)\n",
    "print(info2)\n",
    "\n",
    "# 方法三、格式化拼接，使用format进行关联\n",
    "info3 = '''\n",
    "name:{0}\n",
    "password:{1}\n",
    "'''.format(username,password)\n",
    "print(info３)"
   ]
  },
  {
   "cell_type": "markdown",
   "metadata": {},
   "source": [
    "## 数据类型与运算\n",
    "\n",
    "\n",
    "|类型|说明|\n",
    "|:-:|:-:|\n",
    "|int,uint|有(无)符号整型|\n",
    "|float|浮点型，可以表示小数|\n",
    "|complex|表示复数|\n",
    "|bool|ture,false|\n",
    "|byte|表示二进制数据|\n",
    "|字符串|使用''',\"可以指定一个字符串|"
   ]
  },
  {
   "cell_type": "code",
   "execution_count": 36,
   "metadata": {},
   "outputs": [
    {
     "name": "stdout",
     "output_type": "stream",
     "text": [
      "b'\\xe4\\xb8\\x80\\xe4\\xba\\x8c\\xe4\\xb8\\x89'\n",
      "一二三\n"
     ]
    }
   ],
   "source": [
    "str = \"一二三\"\n",
    "# 字符串转换成二进制，byte类型，使用encode，并告诉原始编码是utf-8\n",
    "print(str.encode(encoding=\"utf-8\"))\n",
    "# 二进制转字符串，使用decode，解码成utf-8\n",
    "print(str.encode(encoding=\"utf-8\").decode(encoding=\"utf-8\"))"
   ]
  },
  {
   "cell_type": "markdown",
   "metadata": {},
   "source": [
    "## 循环与判断\n",
    "判断：if..else(python竟然没有switch,case语句！)  \n",
    "循环：while,for  \n",
    "与C++不同，Python中的判断、循环是通过缩进的方式进行分块，连续采用相同缩进的语句为整个部分。并且，在关键字语句的最后有冒号表示执行子环节。可见下方三个例子。\n",
    "### if...else"
   ]
  },
  {
   "cell_type": "code",
   "execution_count": 47,
   "metadata": {},
   "outputs": [
    {
     "name": "stdout",
     "output_type": "stream",
     "text": [
      "name: \n",
      "password: \n"
     ]
    }
   ],
   "source": [
    "name = input(\"name: \")\n",
    "password = input(\"password: \")\n",
    "_name = \"lzy\"\n",
    "_password = '123'\n",
    "if name==_name and password==_password:\n",
    "    print('''welcome user {0}\n",
    "login...'''.format(name))"
   ]
  },
  {
   "cell_type": "markdown",
   "metadata": {},
   "source": [
    "if..else判断还有三元格式  \n",
    "statement if condition else statement "
   ]
  },
  {
   "cell_type": "code",
   "execution_count": 48,
   "metadata": {},
   "outputs": [
    {
     "name": "stdout",
     "output_type": "stream",
     "text": [
      "y\n"
     ]
    }
   ],
   "source": [
    "print('x') if name == _name else print('y')"
   ]
  },
  {
   "cell_type": "code",
   "execution_count": 49,
   "metadata": {},
   "outputs": [
    {
     "data": {
      "text/plain": [
       "True"
      ]
     },
     "execution_count": 49,
     "metadata": {},
     "output_type": "execute_result"
    }
   ],
   "source": [
    "x = True if name !=_name else False \n",
    "x"
   ]
  },
  {
   "cell_type": "markdown",
   "metadata": {},
   "source": [
    "### while,while...else语句\n",
    "while condition:  \n",
    "$\\quad$statement  \n",
    "  \n",
    "while...else语句是一个整体  \n",
    "while condition:  \n",
    "$\\quad$statement  \n",
    "else:  \n",
    "$\\quad$statement"
   ]
  },
  {
   "cell_type": "code",
   "execution_count": 61,
   "metadata": {},
   "outputs": [
    {
     "name": "stdout",
     "output_type": "stream",
     "text": [
      "please guess system age: 23\n",
      "you got it!\n"
     ]
    }
   ],
   "source": [
    "# system_age = 23\n",
    "count = 0\n",
    "while count < 3:\n",
    "    age = int(input(\"please guess system age: \"))  # 输入并进行强制类型转换\n",
    "    if age == system_age:\n",
    "        print(\"you got it!\")\n",
    "        break\n",
    "    elif age > system_age:\n",
    "        print(\"think smaller\")\n",
    "    else:\n",
    "        print(\"think bigger\")\n",
    "    count = count + 1\n",
    "else: # 只有while正常执行完执行else，如果break就不执行\n",
    "    print(\"You have tried too much times!\")\n"
   ]
  },
  {
   "cell_type": "markdown",
   "metadata": {},
   "source": [
    "### for,for...else语句\n",
    "for condition:  \n",
    "$\\quad$statement  \n",
    "  \n",
    "for...else语句是一个整体  \n",
    "for ...in...:  \n",
    "$\\quad$statement  \n",
    "else:  \n",
    "$\\quad$statement"
   ]
  },
  {
   "cell_type": "code",
   "execution_count": 63,
   "metadata": {},
   "outputs": [
    {
     "name": "stdout",
     "output_type": "stream",
     "text": [
      "please guess system age: 23\n",
      "you got it!\n"
     ]
    }
   ],
   "source": [
    "for count in range(3):\n",
    "    age = int(input(\"please guess system age: \"))  # 输入并进行强制类型转换\n",
    "    if age == system_age:\n",
    "        print(\"you got it!\")\n",
    "        break\n",
    "    elif age > system_age:\n",
    "        print(\"think smaller\")\n",
    "    else:\n",
    "        print(\"think bigger\")\n",
    "else:  # 只有for正常执行完执行else，如果break就不执行\n",
    "    print(\"You have tried too much times!\")"
   ]
  },
  {
   "cell_type": "code",
   "execution_count": 70,
   "metadata": {},
   "outputs": [
    {
     "name": "stdout",
     "output_type": "stream",
     "text": [
      "4\n",
      "2\n",
      "3\n",
      "5\n",
      "6\n"
     ]
    }
   ],
   "source": [
    "for count in [4,2,3,5,6]:\n",
    "    print(count)"
   ]
  }
 ],
 "metadata": {
  "kernelspec": {
   "display_name": "Python 3",
   "language": "python",
   "name": "python3"
  },
  "language_info": {
   "codemirror_mode": {
    "name": "ipython",
    "version": 3
   },
   "file_extension": ".py",
   "mimetype": "text/x-python",
   "name": "python",
   "nbconvert_exporter": "python",
   "pygments_lexer": "ipython3",
   "version": "3.6.2"
  }
 },
 "nbformat": 4,
 "nbformat_minor": 2
}
