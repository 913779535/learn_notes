{
 "cells": [
  {
   "cell_type": "markdown",
   "metadata": {},
   "source": [
    "## 作业三：三级菜单程序\n",
    "\n",
    "任务说明：\n",
    "\n",
    "    打印大洲、国家、主要城市三级菜单\n",
    "    可返回上一级\n",
    "    可随时退出程序"
   ]
  },
  {
   "cell_type": "code",
   "execution_count": 69,
   "metadata": {
    "collapsed": true
   },
   "outputs": [],
   "source": [
    "mes = {\n",
    "    \"asia\":{\n",
    "        \"china\":[\"beijing\"],\n",
    "        \"japan\":[\"tokyo\"]\n",
    "    },\n",
    "    \"europe\":{\n",
    "        \"UK\":[\"london\"],\n",
    "        \"italy\":[\"roma\"]\n",
    "    },\n",
    "    \"americas\":{\n",
    "        \"america\":[\"wshington\"],\n",
    "        \"argentian\":[\"buenos\"],\n",
    "    }\n",
    "}"
   ]
  },
  {
   "cell_type": "markdown",
   "metadata": {},
   "source": [
    "程序采用递归算法(也可以采用循环)。  \n",
    "函数select为主函数，参数为状态标志值ch。    \n",
    "一共定义了５个状态：  \n",
    "1.0状态，len(ch) == 0，标志程序在大洲级。    \n",
    "2.q状态，ch[-1] == 'q'，标志程序退出，函数返回    \n",
    "3.l状态，ch[-1] == 'l'，标志程序返回上一级  \n",
    "4.2状态，len(ch) == 2 (ch[-1] != 'q'或'l')，标志程序在国家级\n",
    "5.3状态，len(ch) == 3 (ch[-1] != 'q'或'l')，标志程序在城市级"
   ]
  },
  {
   "cell_type": "code",
   "execution_count": 74,
   "metadata": {
    "collapsed": true
   },
   "outputs": [],
   "source": [
    "def select(ch):\n",
    "    if len(ch) == 0:\n",
    "        for i in mes.keys():\n",
    "            print(i)\n",
    "        ch.append(input('''choose, eixt press q: '''))\n",
    "        select(ch)\n",
    "    elif ch[-1] == 'q':\n",
    "        print('eixt!!!')\n",
    "        return\n",
    "    elif ch[-1] == 'l':\n",
    "        if len(ch) >=2:\n",
    "            del ch[-1]\n",
    "            del ch[-1]\n",
    "            select(ch)\n",
    "        else:\n",
    "            del ch[-1]\n",
    "            print('mistake')\n",
    "            select(ch)\n",
    "    elif len(ch) == 1:\n",
    "        if ch[-1] not in mes.keys():\n",
    "            print('mistake')\n",
    "            del ch[-1]\n",
    "            select(ch)           \n",
    "        for i in mes[ch[-1]].keys():\n",
    "            print(i)\n",
    "        ch.append(input('''choose, eixt press q, last level press l: '''))\n",
    "        select(ch)\n",
    "    elif len(ch) == 2:\n",
    "        if ch[-1] not in mes[ch[-2]].keys():\n",
    "            print('mistake')\n",
    "            del ch[-1]\n",
    "            select(ch)\n",
    "        for i in mes[ch[-2]][ch[-1]]:\n",
    "            print(i)\n",
    "        ch.append(input('''eixt press q, last level press l: '''))\n",
    "        select(ch)"
   ]
  },
  {
   "cell_type": "code",
   "execution_count": 73,
   "metadata": {
    "scrolled": true
   },
   "outputs": [
    {
     "name": "stdout",
     "output_type": "stream",
     "text": [
      "asia\n",
      "europe\n",
      "americas\n",
      "choose, eixt press q: l\n",
      "mistake\n",
      "asia\n",
      "europe\n",
      "americas\n",
      "choose, eixt press q: asia\n",
      "china\n",
      "japan\n",
      "choose, eixt press q, last level press l: l\n",
      "asia\n",
      "europe\n",
      "americas\n",
      "choose, eixt press q: europe\n",
      "UK\n",
      "italy\n",
      "choose, eixt press q, last level press l: italy\n",
      "roma\n",
      "eixt press q, last level press l: l\n",
      "UK\n",
      "italy\n",
      "choose, eixt press q, last level press l: l\n",
      "asia\n",
      "europe\n",
      "americas\n",
      "choose, eixt press q: q\n"
     ]
    }
   ],
   "source": [
    "select([])"
   ]
  }
 ],
 "metadata": {
  "kernelspec": {
   "display_name": "Python 3",
   "language": "python",
   "name": "python3"
  },
  "language_info": {
   "codemirror_mode": {
    "name": "ipython",
    "version": 3
   },
   "file_extension": ".py",
   "mimetype": "text/x-python",
   "name": "python",
   "nbconvert_exporter": "python",
   "pygments_lexer": "ipython3",
   "version": "3.6.8"
  }
 },
 "nbformat": 4,
 "nbformat_minor": 2
}
