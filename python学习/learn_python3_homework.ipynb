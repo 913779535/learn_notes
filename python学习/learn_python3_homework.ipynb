{
 "cells": [
  {
   "cell_type": "markdown",
   "metadata": {},
   "source": [
    "## 作业二：购物车程序\n",
    "\n",
    "任务说明：\n",
    "\n",
    "    启动程序后，让用户输入工资，然后打印商品列表\n",
    "    允许用户根据商品编号购买商品\n",
    "    用户选择商品后，检测余额是否够，够就直接扣款，不够就提醒\n",
    "    可随时退出，退出时，打印已购买商品和余额"
   ]
  },
  {
   "cell_type": "code",
   "execution_count": 128,
   "metadata": {
    "collapsed": true
   },
   "outputs": [],
   "source": [
    "def login(commodity,price):\n",
    "    salary = int(input('your salary:'))\n",
    "    choice = []\n",
    "    while True:\n",
    "        flag = input('do you want leave? y/n:')\n",
    "        if flag == 'y':\n",
    "            print('----------------------------')\n",
    "            if len(choice) == 0:\n",
    "                print('you have bought nothing')\n",
    "            else:\n",
    "                print('you have bought:')\n",
    "                for index,i in enumerate(choice):\n",
    "                    print(commodity[int(choice[index])])\n",
    "                print('you have',salary)\n",
    "        print('----------------------------')\n",
    "        for index,j in enumerate(commodity):\n",
    "            print(index,'commodity:',commodity[index],'price:',price[index])   \n",
    "        print('----------------------------')\n",
    "        choice.append(input('choose the number of what you want:'))\n",
    "        if salary < int(price[int(choice[-1])]):\n",
    "            del choice[-1]\n",
    "            print('Not sufficient funds!')\n",
    "        else:\n",
    "            salary = salary - int(price[int(choice[-1])])\n",
    "            print('done')\n",
    "            print('----------------------------')"
   ]
  },
  {
   "cell_type": "code",
   "execution_count": 130,
   "metadata": {
    "scrolled": true
   },
   "outputs": [
    {
     "name": "stdout",
     "output_type": "stream",
     "text": [
      "your salary:10\n",
      "do you want leave? y/n:n\n",
      "----------------------------\n",
      "0 commodity: apple price: 2\n",
      "1 commodity: doll price: 3\n",
      "2 commodity: sweet price: 1\n",
      "3 commodity: water price: 5\n",
      "4 commodity: lemon price: 4\n",
      "----------------------------\n",
      "choose the number of what you want:0\n",
      "done\n",
      "----------------------------\n",
      "do you want leave? y/n:n1\n",
      "----------------------------\n",
      "0 commodity: apple price: 2\n",
      "1 commodity: doll price: 3\n",
      "2 commodity: sweet price: 1\n",
      "3 commodity: water price: 5\n",
      "4 commodity: lemon price: 4\n",
      "----------------------------\n",
      "choose the number of what you want:1\n",
      "done\n",
      "----------------------------\n",
      "do you want leave? y/n:n\n",
      "----------------------------\n",
      "0 commodity: apple price: 2\n",
      "1 commodity: doll price: 3\n",
      "2 commodity: sweet price: 1\n",
      "3 commodity: water price: 5\n",
      "4 commodity: lemon price: 4\n",
      "----------------------------\n",
      "choose the number of what you want:3\n",
      "done\n",
      "----------------------------\n",
      "do you want leave? y/n:n0\n",
      "----------------------------\n",
      "0 commodity: apple price: 2\n",
      "1 commodity: doll price: 3\n",
      "2 commodity: sweet price: 1\n",
      "3 commodity: water price: 5\n",
      "4 commodity: lemon price: 4\n",
      "----------------------------\n",
      "choose the number of what you want:0\n",
      "Not sufficient funds!\n",
      "do you want leave? y/n:y\n",
      "----------------------------\n",
      "you have bought:\n",
      "apple\n",
      "doll\n",
      "water\n",
      "you have 0\n"
     ]
    }
   ],
   "source": [
    "com = ['apple','doll','sweet','water','lemon']\n",
    "price = ['2','3','1','5','4']\n",
    "\n",
    "login(com,price)"
   ]
  }
 ],
 "metadata": {
  "kernelspec": {
   "display_name": "Python 3",
   "language": "python",
   "name": "python3"
  },
  "language_info": {
   "codemirror_mode": {
    "name": "ipython",
    "version": 3
   },
   "file_extension": ".py",
   "mimetype": "text/x-python",
   "name": "python",
   "nbconvert_exporter": "python",
   "pygments_lexer": "ipython3",
   "version": "3.6.2"
  }
 },
 "nbformat": 4,
 "nbformat_minor": 2
}
