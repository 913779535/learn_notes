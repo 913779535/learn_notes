{
 "cells": [
  {
   "cell_type": "markdown",
   "metadata": {},
   "source": [
    "# 类\n",
    "## 主要内容:\n",
    "### 1.简介   \n",
    "### 2.定义\n",
    "### 3.继承\n",
    "### 4.多态\n",
    "### 5.三种不同的方法\n",
    "### 6.各种特殊成员方法\n",
    "\n",
    "## 简介\n",
    "### 面向过程 VS 面向对象\n",
    "编程是用特定的语法+数据结构+算法组成的代码来告诉计算机如何执行任务的过程。实现一个任务的方式有很多种，即编程范式。两种最重要的编程范式分别是面向过程编程和面向对象编程。，另外还有函数式编程。\n",
    "\n",
    "#### 面向过程编程(Procedural Programming)\n",
    "\n",
    "Procedural programming uses a list of instructions to tell the computer what to do step-by-step. 面向过程从上到下一步步执行，从头到尾的解决问题。\n",
    "\n",
    "$\\bullet$缺点：维护难度高\n",
    "\n",
    "因此，若是一些简单的脚本或做一次性任务，适合用面向过程。 若处理的任务比较复杂，且需要不断迭代和维护，适合用面向对象\n",
    "\n",
    "#### 面向对象编程(Object Oriented Programming)\n",
    "\n",
    "OOP编程是利用“类（class）”和“对象（object）”来创建各种模型来实现对真实世界的描述。\n",
    "\n",
    "$\\bullet$优点1：使用面向对象编程的原因一方面是因为它可以使程序的维护和扩展变得更简单，并且可以大大提高程序开发效率\n",
    "$\\bullet$优点2：另外，基于面向对象的程序可以使它人更加容易理解你的代码逻辑，从而使团队开发变得更从容。\n",
    "\n",
    "$\\bullet$世界万物，皆可分类\n",
    "\n",
    "$\\bullet$世界万物，皆为对象\n",
    "\n",
    "$\\bullet$只要是对象，就一定属于某种品类\n",
    "\n",
    "无论用什么形式来编程，我们都要明确记住以下原则：\n",
    "\n",
    "$\\bullet$写重复代码是非常不好的低级行为\n",
    "$\\bullet$你写的代码需要经常变更\n",
    "\n",
    "函数编程与OOP的主要区别就是OOP可以使程序更加容易扩展和易更改。\n",
    "\n",
    "## 定义\n",
    "\n",
    "### class 和 object\n",
    "\n",
    "$\\bullet$class（类）：具有相同属性的对象的抽象。即原型、蓝图。类中定义了这些对象的都具备的属性（variables(data)）、共同的方法。  \n",
    "$\\bullet$object（对象）：对象即是一个类的实例化后的实例。一个类必须经过实例化后方可在程序中调用，一个类可以实例化多个对象，每个对象亦可以有不同的属性，就像人类是指所有人，每个人是指具体的对象，人与人之前有共性，亦有不同。\n",
    "\n",
    "\n",
    "### 类的定义、属性、方法及实例化例子\n",
    "\n",
    "把一个类编程具体对象的过程叫实例化。\n",
    "\n"
   ]
  },
  {
   "cell_type": "code",
   "execution_count": 3,
   "metadata": {},
   "outputs": [
    {
     "name": "stdout",
     "output_type": "stream",
     "text": [
      "123\n",
      "www---,A\n",
      "www---,B\n"
     ]
    }
   ],
   "source": [
    "# 类的定义、属性、方法及实例化 例1\n",
    "\n",
    "# 类的定义\n",
    "class Dog:\n",
    "    n  = 123  # 类变量（类的静态属性）\n",
    "    def __init__(self,name,age): \n",
    "        self.name = name  # 实例变量（类的静态属性）\n",
    "        self.age = age\n",
    "    \n",
    "    def bulk(self):  # 类的方法（动态属性）\n",
    "        print(\"www---,%s\" % self.name)\n",
    "\n",
    "# 类的实例化（类的初始化）：生成对象\n",
    "d1 = Dog(\"A\",12)  # d1为Dog类的实例\n",
    "d2 = Dog(\"B\",3)\n",
    "\n",
    "print(Dog.n) #类自带的变量\n",
    "d1.bulk()  # 对象中函数的调用\n",
    "d2.bulk()"
   ]
  },
  {
   "cell_type": "markdown",
   "metadata": {},
   "source": [
    "### 构造函数\n",
    "\n",
    "构造函数\n",
    "\n",
    "**格式**：__init__(self,**,**)\n",
    "\n",
    "**作用**：在实例化时，做一些类的初始化工作。\n",
    "\n",
    "构造函数在程序解释时候会执行，给类的名称分配一个内存地址。\n",
    "\n",
    "当类中没有构造函数时，会默认给self值。\n",
    "\n",
    "**实例化过程：**\n",
    "\n",
    "$\\bullet$python首先会自动把这个实例的参数（如“\"A\",12”）以及实例的变量名（如“d1”），同时通过self等参数传进类（如“Dog”）；  \n",
    "$\\bullet$然后使用构造函数，其中self相当于实例的变量名（如“d1”），建立了对象（如“d1”），并给该对象通过初始化参数（如“\"A\",12”）进行赋值。  \n",
    "$\\bullet$最后，将对象返回，完成构造。  \n",
    "$\\bullet$实例化中，类中的函数（如“bulk(self)”）没有返回到实例中，而是直接存在类的内存中。实例在调用函数的时候直接在类的内存中调用。实例的信息保存在类里面函数的参数self中。\n",
    "\n"
   ]
  },
  {
   "cell_type": "code",
   "execution_count": 5,
   "metadata": {},
   "outputs": [
    {
     "name": "stdout",
     "output_type": "stream",
     "text": [
      "<class '__main__.Dog'>\n",
      "<__main__.Dog object at 0x7f21945ab940>\n"
     ]
    }
   ],
   "source": [
    "class Dog:\n",
    "    def __init__(self,name,age): #  构造函数，做初始化工作。self用于接收变量名。\n",
    "        self.name = name\n",
    "        self.age = age\n",
    "    \n",
    "    def bulk(self):\n",
    "        print(\"www---,%s\" % self.name)\n",
    "\n",
    "print(Dog)  # 类的名称具有内存地址\n",
    "d1 = Dog(\"A\",12)\n",
    "print(d1)  # 实例化后，开辟空间，存上数据"
   ]
  },
  {
   "cell_type": "markdown",
   "metadata": {},
   "source": [
    "### 析构函数\n",
    "\n",
    "**格式**：__del__(self):\n",
    "\n",
    "**作用**：与构造函数相反，在实例释放或销毁时自动执行，不传参数。通常用于类的收尾工作，例如关闭一些数据库链接、打开的临时文件等。\n"
   ]
  },
  {
   "cell_type": "code",
   "execution_count": 8,
   "metadata": {},
   "outputs": [
    {
     "name": "stdout",
     "output_type": "stream",
     "text": [
      "Over...,A\n",
      "Over...,B\n"
     ]
    }
   ],
   "source": [
    "class Dog:\n",
    "    n = 123\n",
    "    def __init__(self,name,age):\n",
    "        self.name = name\n",
    "        self.age = age\n",
    "    \n",
    "    def bulk(self):\n",
    "        print(\"www---,%s\" % self.name)\n",
    "    \n",
    "    def __del__(self):  # 析构函数，程序退出或者销毁时自动执行\n",
    "        print(\"Over...,%s\" % self.name)\n",
    "\n",
    "d1 = Dog(\"A\",12)\n",
    "d2 = Dog(\"B\",10)\n",
    "del d1\n",
    "del d2"
   ]
  },
  {
   "cell_type": "markdown",
   "metadata": {},
   "source": [
    "### 类变量，实例变量\n",
    "\n",
    "**实例变量的作用**：分清不同实例的特点\n",
    "\n",
    "**类变量的作用**：共有属性，节省开销\n",
    "\n",
    "**使用原则**：\n",
    "\n",
    "$\\bullet$当同时有实例变量和类变量时，先找实例变量，再找类变量  \n",
    "$\\bullet$在**类**中增加、查询、修改、删除（del）变量,仅找**类变量**中的内容。在类中不能修改实例变量  \n",
    "$\\bullet$在**实例**中增加、修改、删除（del）变量,仅找**实例变量**中的内容。在实例中查询，先找实例变量，再找类变量。  \n",
    "\n"
   ]
  },
  {
   "cell_type": "code",
   "execution_count": 15,
   "metadata": {},
   "outputs": [
    {
     "name": "stdout",
     "output_type": "stream",
     "text": [
      "--------------------\n",
      "1\n",
      "12\n",
      "10\n",
      "--------------------\n",
      "[123]\n",
      "2\n",
      "[123]\n",
      "[123]\n",
      "--------------------\n",
      "[2, 1]\n",
      "[2, 1]\n",
      "[2, 1]\n",
      "--------------------\n",
      "[2, 1]\n",
      "[1, 2]\n",
      "[2, 1]\n"
     ]
    }
   ],
   "source": [
    "class Dog:\n",
    "    n = [123]  # 类变量，类初始化时赋值给类。保存在类的内存中，不实例化也可以调用。\n",
    "    n_list = [2]\n",
    "    def __init__(self,name,age):\n",
    "        self.name = name  \n",
    "        #实例变量，实例初始化时赋值给实例。实例变量作用域为实例本身。保存在实例的内存中\n",
    "        self.age = age\n",
    "    \n",
    "    def bulk(self):\n",
    "        print(\"www---,%s\" % self.name)\n",
    "        print(\"www---,%s\" % self.n)  \n",
    "        # 当同时有实例变量和类变量时，先找实例变量，再找类变量\n",
    "\n",
    "d1 = Dog(\"A\",12)\n",
    "d2 = Dog(\"B\",10)\n",
    "\n",
    "# 在类中增加、查询、修改、删除（del）变量,仅找类变量中的内容。在类中不能修改实例变量\n",
    "print(\"\".center(20,'-'))\n",
    "Dog.age = 1\n",
    "print(Dog.age)\n",
    "print(d1.age)\n",
    "print(d2.age)\n",
    "\n",
    "# 在实例中增加、修改、删除（del）变量,仅找实例变量中的内容。在实例中查询，先找实例变量，再找类变量。\n",
    "print(\"\".center(20,'-'))\n",
    "d1.n = 2  # 这步实际上是给d1增加了一个实例变量，不修改类变量\n",
    "print(Dog.n)\n",
    "print(d1.n)\n",
    "del d1.n  # 这步实际上是给删除了d1的实例变量，不修改类变量\n",
    "print(d1.n)\n",
    "print(d2.n)\n",
    "\n",
    "print(\"\".center(20,'-'))\n",
    "d1.n_list.append(1)  \n",
    "# 在实例中，对类变量中的列表进行操作，实际上是经过了查询过程，调用了列表的地址。\n",
    "print(Dog.n_list)\n",
    "print(d1.n_list)\n",
    "print(d2.n_list)\n",
    "\n",
    "print(\"\".center(20,'-'))\n",
    "d1.n_list = [1,2] \n",
    "# 在d1实例中，对n_list进行实例化，实例查询首先先找实例变量，后找类变量\n",
    "print(Dog.n_list)\n",
    "print(d1.n_list)\n",
    "print(d2.n_list)"
   ]
  },
  {
   "cell_type": "markdown",
   "metadata": {},
   "source": [
    "\n",
    "### 私有属性\n",
    "\n",
    "私有即外面不能访问，在类的内部，可以通过“self.”的形式访问\n"
   ]
  },
  {
   "cell_type": "code",
   "execution_count": 17,
   "metadata": {},
   "outputs": [
    {
     "name": "stdout",
     "output_type": "stream",
     "text": [
      "aaa--->12\n",
      "aaa--->1\n"
     ]
    },
    {
     "ename": "AttributeError",
     "evalue": "'Dog' object has no attribute '__age'",
     "output_type": "error",
     "traceback": [
      "\u001b[0;31m---------------------------------------------------------------------------\u001b[0m",
      "\u001b[0;31mAttributeError\u001b[0m                            Traceback (most recent call last)",
      "\u001b[0;32m<ipython-input-17-747030a8a46a>\u001b[0m in \u001b[0;36m<module>\u001b[0;34m()\u001b[0m\n\u001b[1;32m     20\u001b[0m \u001b[0md1\u001b[0m\u001b[0;34m.\u001b[0m\u001b[0mchange_age\u001b[0m\u001b[0;34m(\u001b[0m\u001b[0;36m1\u001b[0m\u001b[0;34m)\u001b[0m  \u001b[0;31m# 内部函数修改\u001b[0m\u001b[0;34m\u001b[0m\u001b[0;34m\u001b[0m\u001b[0m\n\u001b[1;32m     21\u001b[0m \u001b[0md1\u001b[0m\u001b[0;34m.\u001b[0m\u001b[0mshow\u001b[0m\u001b[0;34m(\u001b[0m\u001b[0;34m)\u001b[0m\u001b[0;34m\u001b[0m\u001b[0;34m\u001b[0m\u001b[0m\n\u001b[0;32m---> 22\u001b[0;31m \u001b[0mprint\u001b[0m\u001b[0;34m(\u001b[0m\u001b[0md1\u001b[0m\u001b[0;34m.\u001b[0m\u001b[0m__age\u001b[0m\u001b[0;34m)\u001b[0m  \u001b[0;31m# 外部不能访问\u001b[0m\u001b[0;34m\u001b[0m\u001b[0;34m\u001b[0m\u001b[0m\n\u001b[0m",
      "\u001b[0;31mAttributeError\u001b[0m: 'Dog' object has no attribute '__age'"
     ]
    }
   ],
   "source": [
    "class Dog:\n",
    "    n = 123\n",
    "    def __init__(self,name,age):\n",
    "        self.name = name\n",
    "        self.__age = age  # 加上两个下划线变成私有属性\n",
    "    \n",
    "    def bulk(self):\n",
    "        print(\"www---,%s\" % self.name)\n",
    "    \n",
    "    def show(self):\n",
    "        print(\"aaa--->%s\" % self.__age)  # 定义一个方法，可以访问或者修改私有属性\n",
    "    \n",
    "    def change_age(self,new_age): # 定义一个方法，可以访问或者修改私有属性\n",
    "        self.__age = new_age\n",
    "\n",
    "d1 = Dog(\"A\",12)\n",
    "d2 = Dog(\"B\",10)\n",
    "\n",
    "d1.show()\n",
    "d1.change_age(1)  # 内部函数修改\n",
    "d1.show()\n",
    "print(d1.__age)  # 外部不能访问"
   ]
  },
  {
   "cell_type": "markdown",
   "metadata": {},
   "source": [
    "\n",
    "### 私有方法\n",
    "\n",
    "私有即外面不能访问，在类的内部，可以通过“self.”的形式访问\n"
   ]
  },
  {
   "cell_type": "code",
   "execution_count": 18,
   "metadata": {},
   "outputs": [
    {
     "name": "stdout",
     "output_type": "stream",
     "text": [
      "www---,A\n",
      "aaa---,12\n"
     ]
    },
    {
     "ename": "AttributeError",
     "evalue": "'Dog' object has no attribute '_show'",
     "output_type": "error",
     "traceback": [
      "\u001b[0;31m---------------------------------------------------------------------------\u001b[0m",
      "\u001b[0;31mAttributeError\u001b[0m                            Traceback (most recent call last)",
      "\u001b[0;32m<ipython-input-18-c50ba43b7b22>\u001b[0m in \u001b[0;36m<module>\u001b[0;34m()\u001b[0m\n\u001b[1;32m     18\u001b[0m \u001b[0;34m\u001b[0m\u001b[0m\n\u001b[1;32m     19\u001b[0m \u001b[0md1\u001b[0m\u001b[0;34m.\u001b[0m\u001b[0mbulk\u001b[0m\u001b[0;34m(\u001b[0m\u001b[0;34m)\u001b[0m\u001b[0;34m\u001b[0m\u001b[0;34m\u001b[0m\u001b[0m\n\u001b[0;32m---> 20\u001b[0;31m \u001b[0md1\u001b[0m\u001b[0;34m.\u001b[0m\u001b[0m_show\u001b[0m\u001b[0;34m(\u001b[0m\u001b[0;34m)\u001b[0m\u001b[0;34m\u001b[0m\u001b[0;34m\u001b[0m\u001b[0m\n\u001b[0m",
      "\u001b[0;31mAttributeError\u001b[0m: 'Dog' object has no attribute '_show'"
     ]
    }
   ],
   "source": [
    "\n",
    "\n",
    "class Dog:\n",
    "    n = 123\n",
    "    def __init__(self,name,age):\n",
    "        self.name = name\n",
    "        self.age = age\n",
    "        \n",
    "    def bulk(self):\n",
    "        print(\"www---,%s\" % self.name)\n",
    "        self.__show()\n",
    "            \n",
    "    def __show(self):\n",
    "        print(\"aaa---,%s\" % self.age)\n",
    "\n",
    "d1 = Dog(\"A\",12)\n",
    "d2 = Dog(\"B\",10)\n",
    "\n",
    "d1.bulk()\n",
    "d1._show()"
   ]
  },
  {
   "cell_type": "markdown",
   "metadata": {},
   "source": [
    "## 继承概述\n",
    "\n",
    "继承是指：它可以使用现有类的所有功能，并在无需重新编写原来的类的情况下，对这些功能进行扩展。\n",
    "\n",
    "$\\bullet$通过继承创建的新类称为“子类”或“派生类”。  \n",
    "$\\bullet$被继承的类称为“基类”、“父类”或“超类”。\n",
    "\n",
    "继承的过程，就是从一般到特殊的过程。OOP开发范式大致为：划分对象→抽象类→将类组织成为层次化结构(继承和合成) →用类与实例进行设计和实现几个阶段。\n"
   ]
  },
  {
   "cell_type": "code",
   "execution_count": 19,
   "metadata": {},
   "outputs": [
    {
     "name": "stdout",
     "output_type": "stream",
     "text": [
      "Meng is eating...\n",
      "Meng is sleeping...\n",
      "Meng is dreaming...\n"
     ]
    },
    {
     "data": {
      "text/plain": [
       "25"
      ]
     },
     "execution_count": 19,
     "metadata": {},
     "output_type": "execute_result"
    }
   ],
   "source": [
    "# 继承简单实现\n",
    "class People:  # 父类，经典类\n",
    "    \n",
    "    def __init__(self,name,age):\n",
    "        self.name = name\n",
    "        self.age = age\n",
    "    \n",
    "    def eat(self):\n",
    "        print(\"%s is eating...\" %self.name)\n",
    "\n",
    "    def sleep(self):\n",
    "        print(\"%s is sleeping...\" %self.name)\n",
    "\n",
    "    def talk(self):\n",
    "        print(\"%s is talking...\" %self.name)\n",
    "\n",
    "# 子类，从People继承，经典类\n",
    "class Man(People):\n",
    "    \n",
    "    def drive(self):\n",
    "        print(\"%s is driving...\" %self.name)  # 子类新的方法\n",
    "    \n",
    "    def sleep(self):  # 重构父类方法\n",
    "        People.sleep(self)  # 首先调用父类方法\n",
    "        print(\"%s is dreaming...\" %self.name)  # 然后给父类加上新方法\n",
    "\n",
    "# 子类，从People继承，经典类\n",
    "class Women(People): \n",
    "    \n",
    "    def shopping(self):\n",
    "        print(\"%s is shopping...\" %self.name)  # 子类新的方法\n",
    "    \n",
    "    def sleep(self):  # 重构父类方法\n",
    "        People.sleep(self)  # 首先调用父类方法\n",
    "        print(\"%s is dreaming...\" %self.name)  # 然后给父类加上新方法\n",
    "\n",
    "m1 = Man('Meng',23)\n",
    "m1.eat()\n",
    "m1.sleep()\n",
    "\n",
    "w1 = Women('ABC',25)\n",
    "w1.age"
   ]
  },
  {
   "cell_type": "markdown",
   "metadata": {},
   "source": [
    "### 子类初始化\n",
    "\n",
    "希望在不同的子类加入不同的参数进行初始化，且不覆盖父类的初始化过程。\n",
    "\n",
    "在子类中初始化父类中有两种方法，效果相同：\n",
    "- People.__init__(self,name,age)  # 方法一\n",
    "- super(Man,self).__init__(name,age)  # 方法二，比较方便，省去写父类的步骤"
   ]
  },
  {
   "cell_type": "code",
   "execution_count": 21,
   "metadata": {},
   "outputs": [
    {
     "data": {
      "text/plain": [
       "'InnerMongolia'"
      ]
     },
     "execution_count": 21,
     "metadata": {},
     "output_type": "execute_result"
    }
   ],
   "source": [
    "# 子类加参数继承\n",
    "class People:  # 父类，经典类\n",
    "    \n",
    "    def __init__(self,name,age):\n",
    "        self.name = name\n",
    "        self.age = age\n",
    "    \n",
    "    def eat(self):\n",
    "        print(\"%s is eating...\" %self.name)\n",
    "\n",
    "    def sleep(self):\n",
    "        print(\"%s is sleeping...\" %self.name)\n",
    "\n",
    "    def talk(self):\n",
    "        print(\"%s is talking...\" %self.name)\n",
    "\n",
    "# 子类，从People继承，经典类\n",
    "class Man(People):\n",
    "    \n",
    "    def __init__(self,name,age,hometown):  # 子类初始化时先调用这个函数\n",
    "        #People.__init__(self,name,age)  # 先初始化父类（方法一）\n",
    "        super(Man,self).__init__(name,age)  # 先初始化父类（方法二）\n",
    "        self.hometown = hometown  # 再初始化子类\n",
    "    \n",
    "    def drive(self):\n",
    "        print(\"%s is driving...\" %self.name)  # 子类新的方法\n",
    "    \n",
    "    def sleep(self):  # 重构父类方法\n",
    "        People.sleep(self)  # 首先调用父类方法\n",
    "        print(\"%s is dreaming...\" %self.name)  # 然后给父类加上新方法\n",
    "\n",
    "m1 = Man('Meng',23,'InnerMongolia')\n",
    "m1.hometown"
   ]
  },
  {
   "cell_type": "markdown",
   "metadata": {},
   "source": [
    "### 多继承与新式类\n",
    "$\\bullet$多继承\n",
    "\n",
    "Python中支持多继承，即一个类可以从多个类中继承。当实例本身有__init__(self) 的时候，会先执行自己的__init__(self) 函数。当实例本身没有__init__(self)的时候，它会去找父类中的__init__(self)函数，此时有不同的继承策略。查询策略super函数,或者默认进行。\n",
    "\n",
    "$\\bullet$新式类\n",
    "\n",
    "新式类是对经典类的一个改进。新式类在类名后面加入了“object”。类似于Python3与Python2.7之间的关系。以后要尽量都用新式类。\n",
    "\n",
    "新式类中加入了super函数，在经典类中也能用\n",
    "\n",
    "新式类与经典类的不同：\n",
    "\n",
    "$\\bullet$在Python2的继承中，新式类与经典类，继承顺序有所不同：  \n",
    "        当类是经典类时，多继承情况下，会按照深度优先方式查找  \n",
    "        当类是新式类时，多继承情况下，会按照广度优先方式查找  \n",
    "$\\bullet$在Python3的继承中，新式类与经典类中均按照广度优先方式查找\n",
    "\n"
   ]
  },
  {
   "cell_type": "code",
   "execution_count": 99,
   "metadata": {},
   "outputs": [
    {
     "data": {
      "text/plain": [
       "'Meng'"
      ]
     },
     "execution_count": 99,
     "metadata": {},
     "output_type": "execute_result"
    }
   ],
   "source": [
    "# 新式类与多继承\n",
    "class People(object):  # 父类1，新式类\n",
    "    \n",
    "    def __init__(self,name,age):\n",
    "        self.name = name\n",
    "        self.age = age\n",
    "    \n",
    "    def eat(self):\n",
    "        print(\"%s is eating...\" %self.name)\n",
    "\n",
    "    def sleep(self):\n",
    "        print(\"%s is sleeping...\" %self.name)\n",
    "\n",
    "    def talk(self):\n",
    "        print(\"%s is talking...\" %self.name)\n",
    "\n",
    "# 新式类\n",
    "class Pet(object):  # 父类2，新式类\n",
    "    \n",
    "    def __init__(self,name,age):\n",
    "        self.Name = name\n",
    "        self.Age = age\n",
    "    \n",
    "    def run(self):\n",
    "        print(\"%s is running...\" %self.name)\n",
    "\n",
    "# 子类，从People和Pet继承，新式类\n",
    "class Man(People,Pet):\n",
    "    \n",
    "    def __init__(self,name,age,pet_name,pet_age,hometown):  # 子类初始化时先调用这个函数\n",
    "        ###############################################################\n",
    "        # 若想将两个父类同时初始化，可用这种方法：\n",
    "#         People.__init__(self,name,age)  # 初始化父类1\n",
    "#         Pet.__init__(self,pet_name,pet_age)  # 初始化父类2\n",
    "        ###############################################################\n",
    "        super(Man,self).__init__(name,age)\n",
    "        # 按默认路径搜索可用这种方法\n",
    "        self.hometown = hometown  # 再初始化子类\n",
    "    \n",
    "    def drive(self):\n",
    "        print(\"%s is driving...\" %self.name)\n",
    "    \n",
    "    def sleep(self):\n",
    "        People.sleep(self)\n",
    "        print(\"%s is dreaming...\" %self.name)\n",
    "\n",
    "m1 = Man('Meng',23,'InnerMongolia','qq','1')\n",
    "m1.name"
   ]
  },
  {
   "cell_type": "markdown",
   "metadata": {},
   "source": [
    "### 继承实例\n",
    "\n",
    "三个类，学校、讲师、学员。学校具有名称、地址属性。同时讲师、学员各自具有功能。\n"
   ]
  },
  {
   "cell_type": "code",
   "execution_count": 113,
   "metadata": {
    "scrolled": true
   },
   "outputs": [
    {
     "name": "stdout",
     "output_type": "stream",
     "text": [
      "\n",
      "---- info of teacher: Meng ----\n",
      "Name: Meng\n",
      "Age: 23\n",
      "Sex: M\n",
      "Salary: 3\n",
      "Course: Python3\n",
      "\n",
      "--------------------\n",
      "Hiring for teacher :Meng ...\n",
      "Meng is teaching...\n",
      "--------------------\n",
      "\n",
      "---- info of student: BBB ----\n",
      "Name: BBB\n",
      "Age: 12\n",
      "Sex: F\n",
      "Stu_id: 1001\n",
      "Grade: G-2\n",
      "\n",
      "Enrolling for student :BBB ...\n",
      "BBB has paid tuiton for $1000\n"
     ]
    }
   ],
   "source": [
    "class School(object):\n",
    "    def __init__(self,name,addr):\n",
    "        self.name = name\n",
    "        self.addr = addr\n",
    "        self.teachers = []\n",
    "        self.students = []\n",
    "    \n",
    "    def enrool(self,stu_object):\n",
    "        print(\"Enrolling for student :%s ...\" %stu_object.name)\n",
    "        self.students.append(stu_object)\n",
    "        #列表里边存的是　类的实例\n",
    "    \n",
    "    def hire(self,tea_object):\n",
    "        print(\"Hiring for teacher :%s ...\" %tea_object.name)\n",
    "        self.teachers.append(tea_object)\n",
    "\n",
    "class SchoolMember(object):\n",
    "    def __init__(self,name,age,sex):\n",
    "        self.name = name\n",
    "        self.age = age\n",
    "        self.sex = sex \n",
    "        \n",
    "    def tell(self):\n",
    "        pass\n",
    "\n",
    "# 子类\n",
    "class Teacher(SchoolMember):\n",
    "    def __init__(self,name,age,sex,salary,course):\n",
    "        super(Teacher,self).__init__(name,age,sex)\n",
    "        self.salary = salary\n",
    "        self.course = course\n",
    "        \n",
    "    def tell(self):\n",
    "        print(\"\"\"\n",
    "---- info of teacher: %s ----\n",
    "Name: %s\n",
    "Age: %s\n",
    "Sex: %s\n",
    "Salary: %s\n",
    "Course: %s\n",
    "\"\"\" %(self.name, self.name, self.age, self.sex, self.salary, self.course))\n",
    "    \n",
    "    def teach(self):\n",
    "        print(\"%s is teaching...\" %self.name)\n",
    "\n",
    "# 子类\n",
    "class Student(SchoolMember): \n",
    "    def __init__(self,name,age,sex,stu_id,grade):\n",
    "        super(Student,self).__init__(name,age,sex)\n",
    "        self.stu_id = stu_id\n",
    "        self.grade = grade\n",
    "    \n",
    "    def tell(self):\n",
    "        print(\"\"\"\n",
    "---- info of student: %s ----\n",
    "Name: %s\n",
    "Age: %s\n",
    "Sex: %s\n",
    "Stu_id: %s\n",
    "Grade: %s\n",
    "\"\"\" %(self.name, self.name, self.age, self.sex, self.stu_id, self.grade))\n",
    "    \n",
    "    def pay_tuition(self,amount):\n",
    "        print(\"%s has paid tuiton for $%s\" %(self.name,amount))\n",
    "\n",
    "school = School(\"Xinhua School\",\"Nanshan District\")\n",
    "t1 = Teacher(\"Meng\",\"23\",\"M\",\"3\",\"Python3\")\n",
    "t2 = Teacher(\"AAA\",\"25\",\"M\",\"2\",\"Python2\")\n",
    "s1 = Student(\"BBB\",\"12\",\"F\",\"1001\",\"G-2\")\n",
    "s2 = Student(\"CCC\",\"13\",\"M\",\"1002\",\"G-3\")\n",
    "\n",
    "t1.tell()\n",
    "print(''.center(20,'-'))\n",
    "school.hire(t1)\n",
    "school.teachers[0].teach()\n",
    "print(''.center(20,'-'))\n",
    "s1.tell()\n",
    "school.enrool(s1)\n",
    "school.students[0].pay_tuition(1000)"
   ]
  },
  {
   "cell_type": "markdown",
   "metadata": {},
   "source": [
    "## 多态概述\n",
    "\n",
    "多态是指：允许你将父对象设置成为和一个或更多的他的子对象相等的技术，即：允许将子类类型的指针赋值给父类类型的指针，实现了接口重用。一个接口，多种实现\n",
    "\n",
    "Pyhon 很多语法都是支持多态的，比如 len(),sorted(), 你给len传字符串就返回字符串的长度，传列表就返回列表长度。  \n",
    "### Python中多态的实现\n",
    "\n",
    "Python中的多态实现和C++中多态的实现不同。由于Python是解释性语言并且Python中变量是弱类型的，所以Python中的多态也是弱类型的。\n",
    "### 多态实现\n",
    "\n",
    "两种方法：\n",
    "\n",
    "    方法一：在父类中加入一个多态函数\n",
    "    方法二：直接在程序中定义一个多态函数\n",
    "\n"
   ]
  },
  {
   "cell_type": "code",
   "execution_count": 118,
   "metadata": {},
   "outputs": [
    {
     "name": "stdout",
     "output_type": "stream",
     "text": [
      "cccc: 喵喵喵!\n",
      "dddd: 汪！汪！汪！\n",
      "cccc: 吃猫粮\n",
      "dddd: 吃狗粮\n"
     ]
    }
   ],
   "source": [
    "# 多态实现\n",
    "class Animal(object):\n",
    "    def __init__(self, name):\n",
    "        self.name = name\n",
    "    \n",
    "    def talk(self):              # 加上异常，需要子类进行重写\n",
    "        raise NotImplementedError(\"Subclass must implement abstract method\")\n",
    "    \n",
    "    # 实现多态，方法一\n",
    "    def talk_func(obj): #一个接口，多种形态\n",
    "        obj.talk()\n",
    " \n",
    " \n",
    "class Cat(Animal):\n",
    "    def talk(self):\n",
    "        print('%s: 喵喵喵!' %self.name)\n",
    "        \n",
    "    def eat(self):\n",
    "        print('%s: 吃猫粮' %self.name)\n",
    " \n",
    " \n",
    "class Dog(Animal):\n",
    "    def talk(self):\n",
    "        print('%s: 汪！汪！汪！' %self.name)\n",
    "        \n",
    "    def eat(self):\n",
    "        print('%s: 吃狗粮' %self.name)\n",
    "        \n",
    "# 实现多态，方法二        \n",
    "def eat(obj):\n",
    "    obj.eat()\n",
    "\n",
    "c1 = Cat('cccc')\n",
    "d1 = Dog('dddd') \n",
    "\n",
    "###################### \n",
    "# 实现多态\n",
    "Animal.talk_func(c1)\n",
    "Animal.talk_func(d1)\n",
    "\n",
    "eat(c1)\n",
    "eat(d1)\n",
    "######################\n",
    "\n"
   ]
  },
  {
   "cell_type": "markdown",
   "metadata": {},
   "source": [
    "## 方法\n",
    "\n",
    "### 静态方法\n",
    "$\\bullet$**使用方法**：\n",
    "在类的方法钱加装饰器  @staticmethod  \n",
    "$\\bullet$**特征**：   \n",
    "普通的方法，可以在实例化后直接调用，并且在方法里可以通过self.调用实例变量或类变量。但**静态方法不可以通过self.访问实例变量或类变量**。一个不能访问实例变量和类变量的方法，其实相当于跟类本身已经没什么关系了，它与类唯一的关联就是需要通过类名来调用这个方法。  \n",
    "$\\bullet$**作用**:  \n",
    "与私有方法不同，私有方法可以传入self，但静态方法所有的参数需要用户自己输入。当想把一个类当做工具包使用时，可以把其中的方法写成静态方法，归类管理，并防止误调用。 "
   ]
  },
  {
   "cell_type": "code",
   "execution_count": 5,
   "metadata": {},
   "outputs": [
    {
     "name": "stdout",
     "output_type": "stream",
     "text": [
      "AAA is eating bone\n"
     ]
    }
   ],
   "source": [
    "# 静态方法\n",
    "class Dog(object):\n",
    "    \n",
    "    def __init__(self,name):\n",
    "        self.name = name\n",
    "        \n",
    "    @staticmethod\n",
    "    def eat(self,food):\n",
    "        print(\"%s is eating %s\" %(self.name, food))\n",
    "\n",
    "d = Dog(\"AAA\")\n",
    "# d.eat(\"bone\")  # 这样用会报错\n",
    "d.eat(d,\"bone\")  # 可以这样使用"
   ]
  },
  {
   "cell_type": "markdown",
   "metadata": {},
   "source": [
    "### 类方法\n",
    "\n",
    "$\\bullet$**使用方法**：在类的方法前加装饰器：  \n",
    "\n",
    "@classmethod  \n",
    "\n",
    "$\\bullet$**特征**：  \n",
    "\n",
    "普通的方法，可以在实例化后可以通过self.调用实例变量或类变量。**但类方法不可以通过self.访问实例变量，只能访问类变量。**\n",
    "\n",
    "$\\bullet$**作用**：  \n",
    "\n",
    "防止类变量被实例变量覆盖。强制使用类变量。\n"
   ]
  },
  {
   "cell_type": "code",
   "execution_count": 6,
   "metadata": {},
   "outputs": [
    {
     "name": "stdout",
     "output_type": "stream",
     "text": [
      "m_dog is eating bone\n"
     ]
    }
   ],
   "source": [
    "# 类方法\n",
    "class Dog(object):\n",
    "    name = \"m_dog\"\n",
    "    def __init__(self,name):\n",
    "        self.name = name\n",
    "        \n",
    "    @classmethod\n",
    "    def eat(self,food):\n",
    "        print(\"%s is eating %s\" %(self.name, food))\n",
    "\n",
    "d = Dog(\"AAA\")\n",
    "d.eat(\"bone\")  # 可以这样使用"
   ]
  },
  {
   "cell_type": "markdown",
   "metadata": {},
   "source": [
    "### 属性方法\n",
    "\n",
    "$\\bullet$**使用方法**：在类的方法前加装饰器：\n",
    "\n",
    "    @property\n",
    "\n",
    "$\\bullet$**特征**：\n",
    "\n",
    "普通的方法，可以在实例化后通过()使用该方法。**但属性方法不可以通过()调用，而是将这个方法变成静态属性，直接用self.方法名调用**。\n",
    "\n",
    "不可以直接对属性方法传入外部参数。\n",
    "\n",
    "$\\bullet$**作用**：\n",
    "\n",
    "当想根据当前类的状态实现不同功能，且不需要用户外部介入时，可使用属性方法。将方法变成静态属性。对用户来讲，不需要关心内部状态"
   ]
  },
  {
   "cell_type": "code",
   "execution_count": 7,
   "metadata": {},
   "outputs": [
    {
     "name": "stdout",
     "output_type": "stream",
     "text": [
      "AAA is eating ---\n"
     ]
    }
   ],
   "source": [
    "# 一般的属性方法\n",
    "class Dog(object):\n",
    "    name = \"m_dog\"\n",
    "    def __init__(self,name):\n",
    "        self.name = name\n",
    "        \n",
    "    @property  # 属性方法，暴露给用户\n",
    "    def eat(self):\n",
    "        print(\"%s is eating %s\" %(self.name, '---'))\n",
    "\n",
    "d = Dog(\"AAA\")\n",
    "d.eat  # 可以这样使用"
   ]
  },
  {
   "cell_type": "markdown",
   "metadata": {},
   "source": [
    "**属性方法的赋值**：\n",
    "\n",
    "与普通的属性不同，属性方法不能通过赋值=更改。而是通过装饰器\n",
    "\n",
    "@proerty.setter\n",
    "\n",
    "定义一个修改函数，然后通过该函数进行修改。\n",
    "\n",
    "这样实现了同一个函数名的复用。@property实现属性方法的调用。通过相同的名称，@proerty.setter实现属性方法的修改。\n"
   ]
  },
  {
   "cell_type": "code",
   "execution_count": 10,
   "metadata": {},
   "outputs": [
    {
     "name": "stdout",
     "output_type": "stream",
     "text": [
      "AAA is eating none\n",
      "AAA is eating bone\n"
     ]
    },
    {
     "data": {
      "text/plain": [
       "'bone'"
      ]
     },
     "execution_count": 10,
     "metadata": {},
     "output_type": "execute_result"
    }
   ],
   "source": [
    "# 属性方法的赋值\n",
    "class Dog(object):\n",
    "    name = \"m_dog\"\n",
    "    def __init__(self,name):\n",
    "        self.name = name\n",
    "        self.food = 'none'\n",
    "        \n",
    "    @property\n",
    "    def eat(self):\n",
    "        print(\"%s is eating %s\" %(self.name, self.food))\n",
    "\n",
    "    @eat.setter\n",
    "    def eat(self,dog_food):\n",
    "        self.food = dog_food # 更改了类的属性\n",
    "\n",
    "d = Dog(\"AAA\")\n",
    "d.eat\n",
    "d.eat = 'bone'  # 给属性方法赋值  # 如果没有@proerty.setter装饰器，则不能进行赋值操作\n",
    "d.eat\n",
    "d.food"
   ]
  },
  {
   "cell_type": "markdown",
   "metadata": {},
   "source": [
    "**属性方法的删除**：\n",
    "\n",
    "与普通的属性不同，属性方法不能通过del删除。而是通过装饰器\n",
    "\n",
    "@proerty.deleter\n",
    "\n",
    "删除\n",
    "\n",
    "这样实现了同一个函数名的复用。@property实现属性方法的调用。通过相同的名称，@proerty.deleter实现属性方法的删除。\n"
   ]
  },
  {
   "cell_type": "code",
   "execution_count": 15,
   "metadata": {},
   "outputs": [
    {
     "name": "stdout",
     "output_type": "stream",
     "text": [
      "AAA is eating bone\n"
     ]
    }
   ],
   "source": [
    "# 属性方法的删除\n",
    "class Dog(object):\n",
    "    name = \"m_dog\"\n",
    "    def __init__(self,name):\n",
    "        self.name = name\n",
    "        self.food = 'bone'\n",
    "        \n",
    "    @property\n",
    "    def eat(self):\n",
    "        print(\"%s is eating %s\" %(self.name, self.food))\n",
    "        \n",
    "    @eat.deleter\n",
    "    def eat(self):\n",
    "        del self.food\n",
    "\n",
    "d = Dog(\"AAA\")\n",
    "d.eat\n",
    "del d.eat  # 如果没有@proerty.deleter装饰器，则不能使用del调用删除函数\n",
    "# d.eat\n"
   ]
  },
  {
   "cell_type": "markdown",
   "metadata": {},
   "source": [
    "### 各种特殊成员方法\n",
    "Python中自定义的类也有父类（了解）  \n",
    "Python中类的创建过程（了解）\n",
    "\n",
    "$ __doc__： $  \n",
    "表示类的描述信息。在编程时，最好在类下的第一行写好描述信息。"
   ]
  },
  {
   "cell_type": "code",
   "execution_count": 16,
   "metadata": {},
   "outputs": [
    {
     "name": "stdout",
     "output_type": "stream",
     "text": [
      "Dog类的描述信息\n"
     ]
    }
   ],
   "source": [
    "# __doc__\n",
    "class Dog(object):\n",
    "    '''Dog类的描述信息'''\n",
    "    def __init__(self,name):\n",
    "        self.name = name\n",
    "\n",
    "d = Dog(\"AAA\")\n",
    "print(d.__doc__)"
   ]
  },
  {
   "cell_type": "markdown",
   "metadata": {},
   "source": [
    "Dog类的描述信息\n",
    "\n",
    "    __init__：\n",
    "\n",
    "构造方法，通过类创建对象时，自动触发执行\n",
    "\n",
    "    __del__：\n",
    "\n",
    "析构方法，当对象在内存中被释放时，自动触发执行。\n",
    "\n",
    "构造方法和析构方法不进行自定义的话会由Python解释器自动执行。\n",
    "\n",
    "    __module__：\n",
    "\n",
    "表示当前操作的对象在哪个模块\n",
    "\n",
    "    __class__：\n",
    "\n",
    "表示当前操作的对象在哪个模块\n"
   ]
  },
  {
   "cell_type": "code",
   "execution_count": 17,
   "metadata": {},
   "outputs": [
    {
     "name": "stdout",
     "output_type": "stream",
     "text": [
      "numpy.core.multiarray\n",
      "<class 'builtin_function_or_method'>\n"
     ]
    }
   ],
   "source": [
    "# __module__  __class__\n",
    "from numpy import array\n",
    "\n",
    "print(array.__module__)\n",
    "print(array.__class__)"
   ]
  },
  {
   "cell_type": "markdown",
   "metadata": {},
   "source": [
    "    __call__：\n",
    "\n",
    "在实例化后的对象后面加括号，触发执行"
   ]
  },
  {
   "cell_type": "code",
   "execution_count": 18,
   "metadata": {},
   "outputs": [
    {
     "name": "stdout",
     "output_type": "stream",
     "text": [
      "__call__方法在执行\n"
     ]
    }
   ],
   "source": [
    "# __call__\n",
    "class Dog(object):\n",
    "    '''Dog类的描述信息'''\n",
    "    def __init__(self,name):\n",
    "        self.name = name\n",
    "    \n",
    "    def __call__(self, *args, **kwargs):\n",
    "        print(\"__call__方法在执行\")\n",
    "        \n",
    "d = Dog(\"AAA\")\n",
    "d()"
   ]
  },
  {
   "cell_type": "markdown",
   "metadata": {},
   "source": [
    "\n",
    "\n",
    "    __dict__：\n",
    "\n",
    "查看类或对象中的所有成员\n"
   ]
  },
  {
   "cell_type": "code",
   "execution_count": 23,
   "metadata": {
    "scrolled": true
   },
   "outputs": [
    {
     "name": "stdout",
     "output_type": "stream",
     "text": [
      "{'__module__': '__main__', '__doc__': 'Dog类的描述信息', 'color': 'black', '__init__': <function Dog.__init__ at 0x7f51186acd08>, 'func1': <function Dog.func1 at 0x7f51186acd90>, '__dict__': <attribute '__dict__' of 'Dog' objects>, '__weakref__': <attribute '__weakref__' of 'Dog' objects>}\n",
      "------------------------\n",
      "------------------------\n",
      "{'name': 'AAA'}\n"
     ]
    }
   ],
   "source": [
    "# __dict__\n",
    "class Dog(object):\n",
    "    '''Dog类的描述信息'''\n",
    "    color = 'black'\n",
    "    def __init__(self,name):\n",
    "        self.name = name\n",
    "    \n",
    "    def func1(self, *args, **kwargs):\n",
    "        print(\"方法在执行\")\n",
    "d = Dog(\"AAA\")\n",
    "\n",
    "print(Dog.__dict__)  # 通过类调用，输出字典，包括所有类属性\n",
    "print('\\n'.center(49,'-'))\n",
    "print(d.__dict__)  # 通过实例调用，输出字典，包括所有实例属性"
   ]
  },
  {
   "cell_type": "markdown",
   "metadata": {},
   "source": [
    "\n",
    "\n",
    "    __str__：\n",
    "\n",
    "如果一个类中定义了__str__方法，那么在打印对象时，默认输出该方法的返回值。\n"
   ]
  },
  {
   "cell_type": "code",
   "execution_count": 24,
   "metadata": {},
   "outputs": [
    {
     "name": "stdout",
     "output_type": "stream",
     "text": [
      "str\n"
     ]
    }
   ],
   "source": [
    "# __str__\n",
    "class Dog(object):\n",
    "    def __init__(self,name):\n",
    "        self.name = name\n",
    "    \n",
    "    def __str__(self, *args, **kwargs):\n",
    "        return 'str'\n",
    "d = Dog(\"AAA\")\n",
    "\n",
    "print(d)  # 输出str的返回值。如果没有__str__，则打印d的内存地址"
   ]
  },
  {
   "cell_type": "markdown",
   "metadata": {},
   "source": [
    "    __getitem__、__setitem__、__delitem__：\n",
    "\n",
    "用于索引操作，如字典。以上分别表示获取、设置、删除数据函数。\n",
    "\n",
    "可以用这种方法将自己的类封装成一个字典。\n"
   ]
  },
  {
   "cell_type": "code",
   "execution_count": 26,
   "metadata": {},
   "outputs": [
    {
     "name": "stdout",
     "output_type": "stream",
     "text": [
      "meng\n"
     ]
    }
   ],
   "source": [
    "# __getitem__、__setitem__、__delitem__\n",
    "class Foo(object):\n",
    "    data ={}\n",
    "    def __getitem__(self, key):\n",
    "        #print('__getitem__',key)\n",
    "        return self.data[key]\n",
    " \n",
    "    def __setitem__(self, key, value):\n",
    "        #print('__setitem__',key,value)\n",
    "        self.data[key] = value\n",
    " \n",
    "    def __delitem__(self, key):\n",
    "        #print('__delitem__',key)\n",
    "        del self.data[key]\n",
    " \n",
    " \n",
    "obj = Foo()\n",
    "   \n",
    "obj['k2'] = 'meng'  # 自动触发执行 __setitem__,传入的是字符串。\n",
    "print(obj['k2'])  # 自动触发执行 __getitem__\n",
    "del obj['k2']  # 自动触发执行 __getitem__"
   ]
  },
  {
   "cell_type": "markdown",
   "metadata": {},
   "source": [
    "    __new__ \\ __metaclass__：\n",
    "        __new__方法：用来创建实例，并在其中调用了__init__等其他方法。一般情况下不要自己写该方法。若想在实例化之前调用某些方法，可以使用__new__方法。实际中，先调用__new__，再调用__init__\n"
   ]
  },
  {
   "cell_type": "code",
   "execution_count": 28,
   "metadata": {},
   "outputs": [
    {
     "name": "stdout",
     "output_type": "stream",
     "text": [
      "Foo - __new__\n",
      "F00 - __init__\n"
     ]
    }
   ],
   "source": [
    "# __new__ 的作用：类中通过__new__进行实例化，__new__中调用了__init__等其他方法。所有，类在实例化中最初调用的是__new__\n",
    "class Foo(object):\n",
    "    \n",
    "    def __init__(self,name):\n",
    "        self.name = name\n",
    "        print(\"F00 - __init__\")\n",
    "        \n",
    "    def __new__(cls, *args, **kwargs):  # cls相当于类的名称，类似于对象时的self、若自己定义了__new__，需要从父类继承__new__函数\n",
    "        print(\"Foo - __new__\")\n",
    "        return object.__new__(cls)\n",
    "\n",
    "f = Foo('meng')"
   ]
  },
  {
   "cell_type": "markdown",
   "metadata": {},
   "source": [
    "#### Python中自定义的类也有父类\n",
    "\n",
    "Python中一切皆对象，所以下方定义的Foo类也是一个对象，它也有父类。\n"
   ]
  },
  {
   "cell_type": "code",
   "execution_count": 29,
   "metadata": {
    "scrolled": true
   },
   "outputs": [
    {
     "name": "stdout",
     "output_type": "stream",
     "text": [
      "<class '__main__.Foo'>\n",
      "<class 'type'>\n"
     ]
    }
   ],
   "source": [
    "class Foo(object):\n",
    "  \n",
    "    def __init__(self,name):\n",
    "        self.name = name\n",
    " \n",
    "f = Foo(\"meng\")\n",
    "\n",
    "# Foo和f的类型：\n",
    "print(type(f))\n",
    "print(type(Foo))  # 我们自己定义的类Foo，来自于type类"
   ]
  },
  {
   "cell_type": "markdown",
   "metadata": {},
   "source": [
    "因此，我们了解到有两种创建类的方式：\n",
    "\n",
    "- 普通方式\n"
   ]
  },
  {
   "cell_type": "code",
   "execution_count": 38,
   "metadata": {},
   "outputs": [
    {
     "name": "stdout",
     "output_type": "stream",
     "text": [
      "hello\n"
     ]
    }
   ],
   "source": [
    "class Foo(object):\n",
    "    \n",
    "    def __init__(self,name,age):\n",
    "        self.name = name\n",
    "        self.age = age\n",
    "\n",
    "    def func(self):\n",
    "        print('hello')\n",
    "\n",
    "\n",
    "f = Foo(\"jack\",22)\n",
    "f.func()"
   ]
  },
  {
   "cell_type": "markdown",
   "metadata": {},
   "source": [
    "- 特殊方式"
   ]
  },
  {
   "cell_type": "code",
   "execution_count": 41,
   "metadata": {},
   "outputs": [
    {
     "name": "stdout",
     "output_type": "stream",
     "text": [
      "hello special\n"
     ]
    }
   ],
   "source": [
    "def func(self):\n",
    "    print('hello special')\n",
    "\n",
    "def __init__(self,name,age):\n",
    "    self.name = name\n",
    "    self.age = age\n",
    "\n",
    "Foo = type('Foo',(object,), {'func': func, '__init__':__init__})\n",
    "f = Foo(\"jack\",22)\n",
    "f.func()"
   ]
  },
  {
   "cell_type": "markdown",
   "metadata": {},
   "source": [
    "#### Python中类的创建过程\n",
    "\n",
    "观察类创建过程中，父类、子类的生成调用顺序\n"
   ]
  },
  {
   "cell_type": "code",
   "execution_count": 44,
   "metadata": {},
   "outputs": [
    {
     "name": "stdout",
     "output_type": "stream",
     "text": [
      "Foo - __new__\n",
      "F00 - __init__\n"
     ]
    }
   ],
   "source": [
    "# Python3中类的创建过程\n",
    "class MyType(type):\n",
    "    \n",
    "    def __init__(self, what, bases = None, dict = None):\n",
    "        print(\"MyType - __init__\")\n",
    "    \n",
    "    def __call__(self, *args, **kwargs):\n",
    "        print(\"MyType - __call__\")\n",
    "        obj = self.__new__(self, *args, **kwargs)  # 子类Foo的__new__\n",
    "        self.__init__(obj, *args, **kwargs)  # 子类Foo的__init__\n",
    "\n",
    "class Foo(object):\n",
    "    __metaclass__ = MyType\n",
    "    \n",
    "    def __init__(self,name):\n",
    "        self.name = name\n",
    "        print(\"F00 - __init__\")\n",
    "        \n",
    "    def __new__(cls, *args, **kwargs):  # cls相当于类的名称，类似于对象时的self、若自己定义了__new__，需要从父类继承__new__函数\n",
    "        print(\"Foo - __new__\")\n",
    "        return object.__new__(cls)\n",
    "\n",
    "f = Foo('meng')"
   ]
  },
  {
   "cell_type": "markdown",
   "metadata": {},
   "source": [
    "在Python2中得到的输出为：\n",
    "\n",
    "MyType - $__init__ $  \n",
    "MyType - $__call__$  \n",
    "Foo - $__new__$  \n",
    "F00 - $__init__$  \n",
    "\n",
    "说明在python2中，类的创建过程为首先自动执行父类的构造方法，然后执行父类的$__call__$方法，创建子类的实例。\n",
    "\n",
    "所以，类的生成调用顺序依次是 $__new__ --> __init__ --> __call__$\n"
   ]
  }
 ],
 "metadata": {
  "kernelspec": {
   "display_name": "Python 3",
   "language": "python",
   "name": "python3"
  },
  "language_info": {
   "codemirror_mode": {
    "name": "ipython",
    "version": 3
   },
   "file_extension": ".py",
   "mimetype": "text/x-python",
   "name": "python",
   "nbconvert_exporter": "python",
   "pygments_lexer": "ipython3",
   "version": "3.6.8"
  }
 },
 "nbformat": 4,
 "nbformat_minor": 2
}
