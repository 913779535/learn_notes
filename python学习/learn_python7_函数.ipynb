{
 "cells": [
  {
   "cell_type": "markdown",
   "metadata": {},
   "source": [
    "# 函数\n",
    "\n",
    "## 三种编程方式\n",
    "$\\bullet$面向对象编程：重点是类的概念  \n",
    "$\\bullet$面向过程编程：重点是过程，即def。过程是没有返回值的函数  \n",
    "$\\bullet$面向函数编程：重点是函数，也用def定义函数  \n",
    "  \n",
    "定义: 函数是指将一组语句的集合通过一个名字(函数名)封装起来，要想执行这个函数，只需调用其函数名即可。使用函数可减少重复代码，使程序变的可扩展，使程序变得易维护。  \n",
    "\n",
    "## 函数定义:\n"
   ]
  },
  {
   "cell_type": "code",
   "execution_count": 1,
   "metadata": {},
   "outputs": [
    {
     "name": "stdout",
     "output_type": "stream",
     "text": [
      "this is a test function\n",
      "0\n"
     ]
    }
   ],
   "source": [
    "# 函数定义方式\n",
    "def test_function():\n",
    "    # 函数定义测试\n",
    "    print('this is a test function')\n",
    "    return 0\n",
    "\n",
    "print(test_function())"
   ]
  },
  {
   "cell_type": "markdown",
   "metadata": {},
   "source": [
    "## 参数与局部变量"
   ]
  },
  {
   "cell_type": "code",
   "execution_count": 2,
   "metadata": {},
   "outputs": [
    {
     "name": "stdout",
     "output_type": "stream",
     "text": [
      "1 {'num': 3.14}\n",
      "1 {'num': 3.14}\n"
     ]
    }
   ],
   "source": [
    "# 有参数的函数\n",
    "def test(x,y):\n",
    "    print(x,y)\n",
    "\n",
    "test(1,{'num':3.14})  # 位置参数\n",
    "test(y={'num':3.14} , x=1)  # 关键参数，指定参数名即可使用,关键参数必须放在位置参数之后。"
   ]
  },
  {
   "cell_type": "code",
   "execution_count": 3,
   "metadata": {},
   "outputs": [
    {
     "name": "stdout",
     "output_type": "stream",
     "text": [
      "1 2\n",
      "2 3\n"
     ]
    }
   ],
   "source": [
    "# 默认参数\n",
    "def test(x,y=2):  # 默认参数必须放在非默认参数之后\n",
    "    print(x,y)\n",
    "\n",
    "test(1)\n",
    "test(2,3)"
   ]
  },
  {
   "cell_type": "code",
   "execution_count": 4,
   "metadata": {},
   "outputs": [
    {
     "name": "stdout",
     "output_type": "stream",
     "text": [
      "name =  Meng\n",
      "age =  34\n",
      "others =  ('python', '2018/3/27')\n",
      "name =  Meng\n",
      "age =  34\n",
      "others =  ('python', '2018/3/27')\n"
     ]
    }
   ],
   "source": [
    "# 参数组\n",
    "# 上方定义函数的形式，不能解决用户自定义输入参数数量的情况。参数组可以使用非固定参数\n",
    "def print_info(name,age=22,*args): #  参数组放在位置参数和关键参数之后。且args只是参数名，可以更改成其他名称，*表示元组类型的默认参数\n",
    "    print('name = ',name)\n",
    "    print('age = ',age)\n",
    "    print('others = ',args)\n",
    "\n",
    "print_info('Meng',34,'python','2018/3/27')\n",
    "print_info('Meng',34,*['python','2018/3/27'])"
   ]
  },
  {
   "cell_type": "markdown",
   "metadata": {},
   "source": [
    "### 局部变量：字符串、数字等不能在局部中修改\n",
    "\n",
    "在子程序中定义的变量称为局部变量，在程序的一开始定义的变量称为全局变量。 全局变量作用域是整个程序，局部变量作用域是定义该变量的子程序。 当全局变量与局部变量同名时： 在定义局部变量的子程序内，局部变量起作用；在其它地方全局变量起作用。\n"
   ]
  },
  {
   "cell_type": "code",
   "execution_count": 6,
   "metadata": {},
   "outputs": [
    {
     "name": "stdout",
     "output_type": "stream",
     "text": [
      "before change: Meng Li\n",
      "after change asdf\n",
      "在外面看看name改了么? Meng Li\n"
     ]
    }
   ],
   "source": [
    "name = \"Meng Li\"\n",
    " \n",
    "def change_name(name):\n",
    "    print(\"before change:\",name)\n",
    "    name = \"asdf\"\n",
    "    print(\"after change\", name)\n",
    "\n",
    "    \n",
    "change_name(name)\n",
    " \n",
    "print(\"在外面看看name改了么?\",name)"
   ]
  },
  {
   "cell_type": "code",
   "execution_count": 7,
   "metadata": {
    "scrolled": true
   },
   "outputs": [
    {
     "name": "stdout",
     "output_type": "stream",
     "text": [
      "before change: SZ\n",
      "after change CF\n",
      "在外面看看city改了么? CF\n"
     ]
    }
   ],
   "source": [
    "city = 'SZ'\n",
    " \n",
    "def change_name():\n",
    "    global city\n",
    "    print(\"before change:\",city)\n",
    "    city = \"CF\"\n",
    "    print(\"after change\", city)\n",
    " \n",
    "\n",
    "change_name()\n",
    "print(\"在外面看看city改了么?\",city)"
   ]
  },
  {
   "cell_type": "markdown",
   "metadata": {},
   "source": [
    "## 返回值\n",
    "\n",
    "要想获取函数的执行结果，就可以用return语句把结果返回。会把**所有返回值放在元组中返回**。\n",
    "\n",
    "注意:\n",
    "\n",
    "$\\bullet$函数在执行过程中只要遇到return语句，就会停止执行并返回结果，so 也可以理解为 return 语句代表着函数的结束  \n",
    "$\\bullet$如果未在函数中指定return,那这个函数的返回值为None\n",
    "\n"
   ]
  },
  {
   "cell_type": "code",
   "execution_count": 8,
   "metadata": {},
   "outputs": [
    {
     "name": "stdout",
     "output_type": "stream",
     "text": [
      "this is a test function\n",
      "(1, 'adc', ['ds', '645', 6], {'name': '123'})\n"
     ]
    }
   ],
   "source": [
    "# 返回值\n",
    "def test_return():\n",
    "    # 返回值测试\n",
    "    print('this is a test function')\n",
    "    return 1,'adc',['ds','645',6],{\"name\":'123'}\n",
    "\n",
    "print(test_return())  # 返回值是一个元组"
   ]
  },
  {
   "cell_type": "code",
   "execution_count": 9,
   "metadata": {},
   "outputs": [
    {
     "name": "stdout",
     "output_type": "stream",
     "text": [
      "第3层打印 Meng_3\n",
      "第2层打印 Meng_2\n",
      "最外层打印 Meng_1\n"
     ]
    }
   ],
   "source": [
    "name = \"Meng_1\"\n",
    " \n",
    "def change_name():\n",
    "    name = \"Meng_2\" \n",
    "    \n",
    "    def change_name2():\n",
    "        name = \"Meng_3\"\n",
    "        print(\"第3层打印\",name) \n",
    "        \n",
    "    change_name2() #调用内层函数\n",
    "    print(\"第2层打印\",name)\n",
    " \n",
    "change_name()\n",
    "print(\"最外层打印\",name)"
   ]
  },
  {
   "cell_type": "markdown",
   "metadata": {},
   "source": [
    "##  匿名函数\n",
    "\n",
    "匿名函数是Python中函数的一种，顾名思义，它没有自己的名称。使用的时候也不调用任何函数名。当我们不需要显式地定义函数时，直接传入匿名函数更方便。匿名函数用后会直接回收。\n",
    "\n",
    "首先了解map函数：map(function, iterable, ...)\n",
    "\n",
    "$\\bullet$map() 会根据提供的函数对指定序列做映射。  \n",
    "$\\bullet$第一个参数 function 以参数序列中的每一个元素调用 function 函数  \n",
    "$\\bullet$Python 2.x 返回列表。  \n",
    "$\\bullet$Python 3.x 返回迭代器。  \n"
   ]
  },
  {
   "cell_type": "code",
   "execution_count": 40,
   "metadata": {},
   "outputs": [
    {
     "name": "stdout",
     "output_type": "stream",
     "text": [
      "1\n",
      "4\n",
      "9\n",
      "16\n",
      "25\n",
      "36\n",
      "49\n",
      "64\n",
      "81\n"
     ]
    }
   ],
   "source": [
    "def f(x):\n",
    "    return x * x\n",
    "\n",
    "a = map(f, [1, 2, 3, 4, 5, 6, 7, 8, 9])  # 返回的是一个迭代器，按顺序将列表元素作为函数f的参数传入\n",
    "\n",
    "for i in a:\n",
    "    print(i)"
   ]
  },
  {
   "cell_type": "markdown",
   "metadata": {},
   "source": [
    "**匿名函数**：关键字lambda表示匿名函数，冒号前面的符号表示函数参数。匿名函数没有return，只能有一个表达式。**匿名函数的返回值根据冒号后表达式的形式确定**，当为判断语句时，返回true或false；当为计算语句时，返回计算的值。\n"
   ]
  },
  {
   "cell_type": "code",
   "execution_count": 15,
   "metadata": {},
   "outputs": [
    {
     "name": "stdout",
     "output_type": "stream",
     "text": [
      "10000000000\n",
      "10000000000\n"
     ]
    },
    {
     "data": {
      "text/plain": [
       "10000000000"
      ]
     },
     "execution_count": 15,
     "metadata": {},
     "output_type": "execute_result"
    }
   ],
   "source": [
    "# 匿名函数返回数值\n",
    "# 这段代码\n",
    "def calc(n):\n",
    "    return n**n\n",
    "print(calc(10))\n",
    " \n",
    "# 换成匿名函数\n",
    "calc = lambda n:n**n\n",
    "print(calc(10))\n",
    "\n",
    "# 或者：\n",
    "(lambda n:n**n)(10)"
   ]
  },
  {
   "cell_type": "code",
   "execution_count": 16,
   "metadata": {},
   "outputs": [
    {
     "data": {
      "text/plain": [
       "False"
      ]
     },
     "execution_count": 16,
     "metadata": {},
     "output_type": "execute_result"
    }
   ],
   "source": [
    "# 匿名函数返回true或false\n",
    "(lambda n:n>7)(1)"
   ]
  },
  {
   "cell_type": "code",
   "execution_count": 17,
   "metadata": {},
   "outputs": [
    {
     "data": {
      "text/plain": [
       "<map at 0x7fafdc72e6d8>"
      ]
     },
     "execution_count": 17,
     "metadata": {},
     "output_type": "execute_result"
    }
   ],
   "source": [
    "# 匿名函数与map()函数结合：将对应数据进行计算，返回值为一个迭代器\n",
    "map(lambda x: x ** 2, [1, 2, 3, 4, 5])  # 使用 lambda 匿名函数\n",
    "map(lambda x, y: x + y, [1, 3, 5, 7, 9], [2, 4, 6, 8, 10])  # 提供了两个列表，对相同位置的列表数据进行相加"
   ]
  },
  {
   "cell_type": "code",
   "execution_count": 19,
   "metadata": {},
   "outputs": [
    {
     "name": "stdout",
     "output_type": "stream",
     "text": [
      "8\n",
      "9\n"
     ]
    }
   ],
   "source": [
    "# 匿名函数与filter()函数结合:在一组数据中过滤出想要的数据，返回值为一个迭代器，内容包含使得匿名函数中表达式为真的值。\n",
    "res = filter(lambda n:n>7,range(10))\n",
    "for i in res:\n",
    "    print(i)"
   ]
  },
  {
   "cell_type": "markdown",
   "metadata": {},
   "source": [
    "匿名函数也是一个函数对象，也可以把匿名函数赋值给一个变量，再利用变量来调用该函数"
   ]
  },
  {
   "cell_type": "code",
   "execution_count": 20,
   "metadata": {},
   "outputs": [
    {
     "data": {
      "text/plain": [
       "4"
      ]
     },
     "execution_count": 20,
     "metadata": {},
     "output_type": "execute_result"
    }
   ],
   "source": [
    "f = lambda x: x * x\n",
    "f(2)"
   ]
  },
  {
   "cell_type": "code",
   "execution_count": 21,
   "metadata": {},
   "outputs": [
    {
     "data": {
      "text/plain": [
       "25"
      ]
     },
     "execution_count": 21,
     "metadata": {},
     "output_type": "execute_result"
    }
   ],
   "source": [
    "def build(x, y):\n",
    "    return lambda: x ** 2 + y **2\n",
    "\n",
    "a=build(3,4)\n",
    "a()"
   ]
  },
  {
   "cell_type": "markdown",
   "metadata": {},
   "source": [
    "\n",
    "## 递归函数\n",
    "\n",
    "函数中调用自己。要求:\n",
    "\n",
    "$\\bullet$    必须有一个明确的结束条件\n",
    "\n",
    "$\\bullet$    每次进入更深一层递归时，问题规模相比上次递归都应有所减少\n",
    "\n",
    "$\\bullet$    递归效率不高，递归层次过多会导致栈溢出（在计算机中，函数调用是通过栈（stack）这种数据结构实现的，每当进入一个函数调用，栈就会加一层栈帧，每当函数返回，栈就会减一层栈帧。由于栈的大小不是无限的，所以，递归调用的次数过多，会导致栈溢出）\n",
    "\n"
   ]
  },
  {
   "cell_type": "code",
   "execution_count": 23,
   "metadata": {},
   "outputs": [
    {
     "data": {
      "text/plain": [
       "120"
      ]
     },
     "execution_count": 23,
     "metadata": {},
     "output_type": "execute_result"
    }
   ],
   "source": [
    "# 递归函数\n",
    "def calculate(num):  # 计算阶乘\n",
    "    if num == 1 :  # 递归的结束条件\n",
    "        return num\n",
    "    return num*calculate(num-1)\n",
    "\n",
    "calculate(5)"
   ]
  },
  {
   "cell_type": "markdown",
   "metadata": {},
   "source": [
    "## 函数式编程\n",
    "\n",
    "这里的“函数”指的是数学里面的函数，即自变量的映射。Python对函数式编程提供部分支持。由于Python允许使用变量，因此，Python不是纯函数式编程语言。 具体可以参考 。Erlang,Haskell是典型的函数式编程方法。Python不是。\n",
    "\n",
    "\n",
    "## 高阶函数\n",
    "\n",
    "$\\bullet$一个函数可以接收另一个函数作为参数，这种函数就称之为高阶函数。（即把一个函数名当做实参传入函数）  \n",
    "$\\bullet$或者：在返回值中包含函数名\n",
    "\n",
    "\n"
   ]
  },
  {
   "cell_type": "code",
   "execution_count": 25,
   "metadata": {},
   "outputs": [
    {
     "data": {
      "text/plain": [
       "2"
      ]
     },
     "execution_count": 25,
     "metadata": {},
     "output_type": "execute_result"
    }
   ],
   "source": [
    "abs(-2)  # 取绝对值"
   ]
  },
  {
   "cell_type": "code",
   "execution_count": 26,
   "metadata": {},
   "outputs": [
    {
     "data": {
      "text/plain": [
       "False"
      ]
     },
     "execution_count": 26,
     "metadata": {},
     "output_type": "execute_result"
    }
   ],
   "source": [
    "any([])  # 其参数为可迭代对象。如果可迭代对象有元素为真，则返回Ture，否则（元素中有非真，或者为空）返回False"
   ]
  },
  {
   "cell_type": "code",
   "execution_count": 27,
   "metadata": {},
   "outputs": [
    {
     "data": {
      "text/plain": [
       "False"
      ]
     },
     "execution_count": 27,
     "metadata": {},
     "output_type": "execute_result"
    }
   ],
   "source": [
    "bool([])  # 判断真假。0为假，非0为真。空字典、空列表均为假。字典、列表中有元素即为真。"
   ]
  },
  {
   "cell_type": "code",
   "execution_count": 28,
   "metadata": {},
   "outputs": [
    {
     "data": {
      "text/plain": [
       "-7118406227084350934"
      ]
     },
     "execution_count": 28,
     "metadata": {},
     "output_type": "execute_result"
    }
   ],
   "source": [
    "# hash():返回输入对象的哈希值，用整数表示。哈希值在字典查找时，可用于快速比较键的值。可以把无序变成有序。增加效率\n",
    "hash(\"1\")"
   ]
  },
  {
   "cell_type": "code",
   "execution_count": 44,
   "metadata": {},
   "outputs": [
    {
     "name": "stdout",
     "output_type": "stream",
     "text": [
      "[(-3, 0), (1, 4), (2, 9), (5, 7)]\n",
      "[(-3, 0), (1, 4), (5, 7), (2, 9)]\n"
     ]
    }
   ],
   "source": [
    "# sorted()  # 可用于排序\n",
    "# 例如可以用于对字典中的key进行排序\n",
    "a={1:4,5:7,2:9,-3:0}\n",
    "print(sorted(a.items()))  # 对字典中key排序\n",
    "print(sorted(a.items(),key=lambda x:x[1]))  # 对字典中value排序"
   ]
  },
  {
   "cell_type": "code",
   "execution_count": 41,
   "metadata": {},
   "outputs": [
    {
     "name": "stdout",
     "output_type": "stream",
     "text": [
      "(1, 'q')\n",
      "(2, 'w')\n",
      "(3, 'e')\n"
     ]
    }
   ],
   "source": [
    "# zip()  # 拉链，将数据合在一起，返回值为迭代器，迭代器中每个元素为元组。且以最短的为基准\n",
    "a=[1,2,3,4,5]\n",
    "b=['q','w','e']\n",
    "\n",
    "for i in zip(a,b):\n",
    "    print(i)"
   ]
  },
  {
   "cell_type": "code",
   "execution_count": 42,
   "metadata": {},
   "outputs": [
    {
     "data": {
      "text/plain": [
       "b'dsdsd'"
      ]
     },
     "execution_count": 42,
     "metadata": {},
     "output_type": "execute_result"
    }
   ],
   "source": [
    "bytes(\"dsdsd\",encoding = \"utf-8\") "
   ]
  }
 ],
 "metadata": {
  "kernelspec": {
   "display_name": "Python 3",
   "language": "python",
   "name": "python3"
  },
  "language_info": {
   "codemirror_mode": {
    "name": "ipython",
    "version": 3
   },
   "file_extension": ".py",
   "mimetype": "text/x-python",
   "name": "python",
   "nbconvert_exporter": "python",
   "pygments_lexer": "ipython3",
   "version": "3.6.8"
  }
 },
 "nbformat": 4,
 "nbformat_minor": 2
}
