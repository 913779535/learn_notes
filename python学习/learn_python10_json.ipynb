{
 "cells": [
  {
   "cell_type": "markdown",
   "metadata": {},
   "source": [
    "## 本部分简介\n",
    "\n",
    "    json模块概述\n",
    "    json模块使用\n",
    "    pickle模块概述\n",
    "    pickle模块使用\n",
    "\n",
    "### json模块概述\n",
    "\n",
    "为了将Python中的数据存储到硬盘中（序列化），并将存储过的硬盘中的数据读取，并转化为Python数据（反序列化）。json模块可以实现标准的序列化、反序列化过程。\n",
    "\n",
    "    json只能处理简单的数据类型，包括字典、字符串、列表等\n",
    "    json能够在所有语言中通用，因此只支持一些简单的数据类型。\n",
    "\n",
    "xml功能与json功能类似，也可用于数据交互。当前json逐渐成为主流的数据交互方式。\n",
    "### json模块使用\n",
    "\n",
    "    序列化过程使用dumps()/dump()\n",
    "    反序列化过程使用loads()/load()\n",
    "\n"
   ]
  },
  {
   "cell_type": "code",
   "execution_count": 1,
   "metadata": {},
   "outputs": [
    {
     "name": "stdout",
     "output_type": "stream",
     "text": [
      "23\n",
      "23\n"
     ]
    }
   ],
   "source": [
    "## json文件使用例1:dumps()/dump()/loads()/load()的使用\n",
    "import json\n",
    "\n",
    "info = {\n",
    "    \"name\":\"Meng Li\",\n",
    "    \"age\":23\n",
    "}\n",
    "\n",
    "######方法一、二结果完全相同#########\n",
    "\n",
    "#############方法一################\n",
    "# 标准序列化过程1\n",
    "f = open('test_json1.txt','w') \n",
    "f.write(json.dumps(info))\n",
    "f.close()\n",
    "\n",
    "# 标准反列化过程1\n",
    "f = open('test_json1.txt','r') \n",
    "data = json.loads(f.read())\n",
    "f.close()\n",
    "print(data['age'])\n",
    "\n",
    "#############方法二################\n",
    "# 标准序列化过程2\n",
    "f = open('test_json2.txt','w') \n",
    "json.dump(info,f)\n",
    "f.close()\n",
    "\n",
    "# 标准反列化过程2\n",
    "f = open('test_json2.txt','r') \n",
    "data = json.load(f)\n",
    "f.close()\n",
    "print(data['age'])\n"
   ]
  },
  {
   "cell_type": "code",
   "execution_count": null,
   "metadata": {
    "collapsed": true
   },
   "outputs": [],
   "source": [
    "## json文件使用例2：多次dump，load时会报错。因此，实际使用时只能dump一次，load一次。\n",
    "import json\n",
    "\n",
    "info = {\n",
    "    \"name\":\"Meng Li\",\n",
    "    \"age\":23\n",
    "}\n",
    "\n",
    "# 标准序列化过程1\n",
    "f = open('test_json.txt','w') \n",
    "f.write(json.dumps(info))  #第一次dump\n",
    "info[\"age\"] = 24\n",
    "f.write(json.dumps(info))  #第二次dump\n",
    "f.close()\n",
    "\n",
    "# 标准反列化过程1，现在文件中有两个字典，load会报错\n",
    "f = open('test_json.txt','r') \n",
    "data = json.load(f)\n",
    "f.close()\n",
    "print(data['age'])\n",
    "\n",
    "## json文件使用例2：多次dump，load时会报错。因此，实际使用时只能dump一次，load一次。\n",
    "\n",
    "\n",
    "info = {\n",
    "    \"name\":\"Meng Li\",\n",
    "    \"age\":23\n",
    "}\n",
    "\n",
    "# 标准序列化过程1\n",
    "f = open('test_json.txt','w') \n",
    "f.write(json.dumps(info))  #第一次dump\n",
    "info[\"age\"] = 24\n",
    "f.write(json.dumps(info))  #第二次dump\n",
    "f.close()\n",
    "\n",
    "# 标准反列化过程1，现在文件中有两个字典，load会报错\n",
    "f = open('test_json.txt','r') \n",
    "data = json.load(f)\n",
    "f.close()\n",
    "print(data['age'])"
   ]
  },
  {
   "cell_type": "markdown",
   "metadata": {},
   "source": [
    "### pickle模块概述\n",
    "\n",
    "因为json需要在多平台交互，功能比较简单。为了能够保存函数等其他Python数据信息，可以使用pickle模块。但是pickle只能在Python中使用。\n",
    "\n",
    "    pickle模块用法与json模块完全相同\n",
    "    但pickle模块dumps()得到结果为二进制类型，需要写进二进制文件。\n",
    "\n",
    "### pickle模块使用\n",
    "\n",
    "    序列化过程使用dumps()/dump()\n",
    "    反序列化过程使用loads()/load()\n",
    "\n"
   ]
  },
  {
   "cell_type": "code",
   "execution_count": 3,
   "metadata": {},
   "outputs": [
    {
     "name": "stdout",
     "output_type": "stream",
     "text": [
      "23\n",
      "23\n"
     ]
    }
   ],
   "source": [
    "## pickle模块使用例1:dumps()/dump()/loads()/load()的使用\n",
    "import pickle\n",
    "\n",
    "def sayhi():\n",
    "    print('Hello!')\n",
    "\n",
    "info = {\n",
    "    \"name\":\"Meng Li\",\n",
    "    \"age\":23,\n",
    "    \"func\":sayhi  # 这里仅保存了函数名（sayhi），没有将整个函数存入字典\n",
    "}\n",
    "\n",
    "######方法一、二结果完全相同#########\n",
    "\n",
    "#############方法一################\n",
    "# 标准序列化过程1\n",
    "f = open('test_json1.txt','wb') \n",
    "f.write(pickle.dumps(info))\n",
    "f.close()\n",
    "\n",
    "# 标准反列化过程1\n",
    "f = open('test_json1.txt','rb') \n",
    "data = pickle.loads(f.read())\n",
    "f.close()\n",
    "print(data['age'])\n",
    "\n",
    "#############方法二################\n",
    "# 标准序列化过程2\n",
    "f = open('test_json2.txt','wb') \n",
    "pickle.dump(info,f)\n",
    "f.close()\n",
    "\n",
    "# 标准反列化过程2\n",
    "f = open('test_json2.txt','rb') \n",
    "data = pickle.load(f)\n",
    "f.close()\n",
    "print(data['age'])"
   ]
  }
 ],
 "metadata": {
  "kernelspec": {
   "display_name": "Python 3",
   "language": "python",
   "name": "python3"
  },
  "language_info": {
   "codemirror_mode": {
    "name": "ipython",
    "version": 3
   },
   "file_extension": ".py",
   "mimetype": "text/x-python",
   "name": "python",
   "nbconvert_exporter": "python",
   "pygments_lexer": "ipython3",
   "version": "3.6.8"
  }
 },
 "nbformat": 4,
 "nbformat_minor": 2
}
