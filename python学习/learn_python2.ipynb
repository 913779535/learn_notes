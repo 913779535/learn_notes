{
 "cells": [
  {
   "cell_type": "markdown",
   "metadata": {},
   "source": [
    "$\\bullet$异常基础  \n",
    "$\\bullet$异常种类  \n",
    "$\\bullet$异常其他结构  \n",
    "$\\bullet$主动触发异常  \n",
    "$\\bullet$自定义异常  \n",
    "$\\bullet$断言  "
   ]
  },
  {
   "cell_type": "markdown",
   "metadata": {},
   "source": [
    "## 异常基础\n",
    "在在编程过程中为了增加友好性和程序鲁棒性，使用异常处理的方法，出错之后进行其他处理而不使得程序崩溃或直接给用户报错。\n",
    "### 处理异常的基本方法"
   ]
  },
  {
   "cell_type": "code",
   "execution_count": 2,
   "metadata": {},
   "outputs": [],
   "source": [
    "try:\n",
    "    statement\n",
    "except (Error1,Error2) as e:\n",
    "    statement\n",
    "except Exception as e:\n",
    "    statement"
   ]
  },
  {
   "cell_type": "code",
   "execution_count": 5,
   "metadata": {},
   "outputs": [
    {
     "name": "stdout",
     "output_type": "stream",
     "text": [
      "--> IndexError: list index out of range\n"
     ]
    }
   ],
   "source": [
    "# 异常处理举例：处理特定类型的错误--1\n",
    "age = [23,34,53,1]\n",
    "try:\n",
    "    print(age[6])\n",
    "except KeyError as e:  # 把错误赋值给e，并预计可能会出现KeyError\n",
    "    print(\"--> KeyError:\",e)\n",
    "except IndexError as e:  # 预计可能会出现IndexError\n",
    "    print(\"--> IndexError:\",e)\n",
    "except Exception as e:  # 处理未知错误\n",
    "    print(\"--> Error:\",e)"
   ]
  },
  {
   "cell_type": "markdown",
   "metadata": {},
   "source": [
    "## 异常的种类\n",
    "\n",
    "<center>常用种类</center>  \n",
    "\n",
    "|表示|说明|\n",
    "|:-|:-|\n",
    "|AttributeError|试图访问一个对象没有的属性，比如foo.x，但是foo没有属性x|\n",
    "|IOError|输入/输出异常；基本上是无法打开文件。（Python3中具有FileNotFound错误）|\n",
    "|ImportError| 无法引入模块或包；基本上是路径问题或名称错误|\n",
    "|IndentationError| 语法错误（的子类） ；代码没有正确对齐|\n",
    "|IndexError|下标索引超出序列边界，比如当x只有三个元素，却试图访问x[5]|\n",
    "|KeyError|试图访问字典里不存在的键|\n",
    "|KeyboardInterrupt |Ctrl+C被按下|\n",
    "|NameError|使用一个还未被赋予对象的变量|\n",
    "|SyntaxError |Python代码非法，代码不能编译(个人认为这是语法错误，写错代码|\n",
    "|TypeError| 传入对象类型与要求的不符合|\n",
    "|UnboundLocalError| 试图访问一个还未被设置的局部变量，基本上是由于另有一个同名的全局变量，导致你以为正在访问它|\n",
    "|ValueError| 传入一个调用者不期望的值，即使值的类型是正确的|"
   ]
  },
  {
   "cell_type": "markdown",
   "metadata": {},
   "source": [
    "## 异常的其他结构\n",
    "没出错时执行else语句。无论异常与否，最终执行finally块\n",
    "### 处理异常的完整结构"
   ]
  },
  {
   "cell_type": "code",
   "execution_count": null,
   "metadata": {
    "collapsed": true
   },
   "outputs": [],
   "source": [
    "try:\n",
    "    # 主代码块\n",
    "    pass\n",
    "except KeyError,e:\n",
    "    # 异常时，执行该块\n",
    "    pass\n",
    "else:\n",
    "    # 主代码块执行完，执行该块\n",
    "    pass\n",
    "finally:\n",
    "    # 无论异常与否，最终执行该块\n",
    "    pass"
   ]
  },
  {
   "cell_type": "markdown",
   "metadata": {},
   "source": [
    "# 异常其他结构"
   ]
  },
  {
   "cell_type": "code",
   "execution_count": 7,
   "metadata": {},
   "outputs": [
    {
     "name": "stdout",
     "output_type": "stream",
     "text": [
      "34\n",
      "No Error\n",
      "Exception End\n"
     ]
    }
   ],
   "source": [
    "age = [23,34,53,1]\n",
    "try:\n",
    "    print(age[1])\n",
    "except IndexError as e:  # 预计可能会出现IndexError\n",
    "    print(\"--> IndexError:\",e)\n",
    "except Exception as e:  # 处理未知错误\n",
    "    print(\"--> Error:\",e)\n",
    "else:\n",
    "    print(\"No Error\")\n",
    "finally:\n",
    "    print(\"Exception End\")"
   ]
  },
  {
   "cell_type": "markdown",
   "metadata": {},
   "source": [
    "## 主动触发异常\n",
    "\n",
    "### 结构："
   ]
  },
  {
   "cell_type": "code",
   "execution_count": 9,
   "metadata": {},
   "outputs": [
    {
     "name": "stdout",
     "output_type": "stream",
     "text": [
      "34\n",
      "--> Error: 错误了。。。\n",
      "Exception End\n"
     ]
    }
   ],
   "source": [
    "# 主动触发异常\n",
    "age = [23,34,53,1]\n",
    "try:\n",
    "    print(age[1])\n",
    "    raise Exception('错误了。。。')\n",
    "except IndexError as e:  # 预计可能会出现IndexError\n",
    "    print(\"--> IndexError:\",e)\n",
    "except Exception as e:  # 处理未知错误\n",
    "    print(\"--> Error:\",e)\n",
    "else:\n",
    "    print(\"No Error\")\n",
    "finally:\n",
    "    print(\"Exception End\")"
   ]
  },
  {
   "cell_type": "code",
   "execution_count": 11,
   "metadata": {},
   "outputs": [
    {
     "name": "stdout",
     "output_type": "stream",
     "text": [
      "我的异常\n"
     ]
    }
   ],
   "source": [
    "# 自定义异常\n",
    "class MyException(Exception):  # 见Day6-object_oriented_programming\n",
    " \n",
    "    def __init__(self, msg):\n",
    "        self.message = msg\n",
    " \n",
    "    def __str__(self):  # 关于__str__的解释，见Day6-08-special_method.ipynb\n",
    "        return self.message\n",
    "\n",
    "try:\n",
    "    raise MyException('我的异常')\n",
    "except MyException as e:\n",
    "    print(e)"
   ]
  },
  {
   "cell_type": "code",
   "execution_count": 14,
   "metadata": {},
   "outputs": [
    {
     "name": "stdout",
     "output_type": "stream",
     "text": [
      "Error -->  \n",
      "Next Process\n"
     ]
    }
   ],
   "source": [
    "# 断言\n",
    "# assert 条件\n",
    "\n",
    "try:\n",
    "    assert 1 == 2\n",
    "#     assert 1 == 1\n",
    "except AssertionError as e:\n",
    "    print('Error --> ',e)\n",
    "\n",
    "print('Next Process')"
   ]
  }
 ],
 "metadata": {
  "kernelspec": {
   "display_name": "Python 3",
   "language": "python",
   "name": "python3"
  },
  "language_info": {
   "codemirror_mode": {
    "name": "ipython",
    "version": 3
   },
   "file_extension": ".py",
   "mimetype": "text/x-python",
   "name": "python",
   "nbconvert_exporter": "python",
   "pygments_lexer": "ipython3",
   "version": "3.6.2"
  }
 },
 "nbformat": 4,
 "nbformat_minor": 2
}
