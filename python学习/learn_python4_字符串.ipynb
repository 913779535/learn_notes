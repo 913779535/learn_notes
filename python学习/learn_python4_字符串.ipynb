{
 "cells": [
  {
   "cell_type": "markdown",
   "metadata": {},
   "source": [
    "# 字符串\n",
    "## 字符串定义"
   ]
  },
  {
   "cell_type": "code",
   "execution_count": 1,
   "metadata": {},
   "outputs": [
    {
     "data": {
      "text/plain": [
       "'this is string'"
      ]
     },
     "execution_count": 1,
     "metadata": {},
     "output_type": "execute_result"
    }
   ],
   "source": [
    "string = 'this is string'\n",
    "string"
   ]
  },
  {
   "cell_type": "markdown",
   "metadata": {},
   "source": [
    "## 常用操作：分割，切片"
   ]
  },
  {
   "cell_type": "code",
   "execution_count": 2,
   "metadata": {},
   "outputs": [
    {
     "data": {
      "text/plain": [
       "'his'"
      ]
     },
     "execution_count": 2,
     "metadata": {},
     "output_type": "execute_result"
    }
   ],
   "source": [
    "# 切片，切片方式与列表相同\n",
    "string[1:4]"
   ]
  },
  {
   "cell_type": "code",
   "execution_count": 50,
   "metadata": {},
   "outputs": [
    {
     "data": {
      "text/plain": [
       "'his is str'"
      ]
     },
     "execution_count": 50,
     "metadata": {},
     "output_type": "execute_result"
    }
   ],
   "source": [
    "string[string.find('his'):-3]"
   ]
  },
  {
   "cell_type": "markdown",
   "metadata": {},
   "source": [
    "## 字符串运算符\n",
    "下表实例变量a值为字符串 \"hello\"，b变量值为 \"python\"：\n",
    "\n",
    "操作符|描述|实例\n",
    ":-|:-|:-\n",
    "+|字符串连接|a+b:'hellopython\n",
    "$*$|重复|a$*$2:'hellohellow'\n",
    "in/not in|成员运算符 - 如果字符串中包含给定的字符返回 True/False|'h'in a:True\n",
    "r/R|原始字符串，不会转义|print(r'\\n'):\\n"
   ]
  },
  {
   "cell_type": "markdown",
   "metadata": {},
   "source": [
    "## 字符串格式化"
   ]
  },
  {
   "cell_type": "code",
   "execution_count": 12,
   "metadata": {},
   "outputs": [
    {
     "name": "stdout",
     "output_type": "stream",
     "text": [
      "there are 3 apples on the table\n"
     ]
    }
   ],
   "source": [
    "print(\"there are %d apples on the %s\" %(3,'table'))\n"
   ]
  },
  {
   "cell_type": "markdown",
   "metadata": {},
   "source": [
    "## 字符串格式化符号\n",
    "符号|描述|符号|描述\n",
    ":-|:-|:-|:-\n",
    "%c|ASCII码|%s|字符串\n",
    "%d|整数|%u|无符号整型\n",
    "%o|无符号八进制|%x|无符号十六进制\n",
    "%f|格式化浮点数字|%e|科学计数法表示浮点数\n",
    "\n",
    "python还有种格式化函数\n",
    "[str.format](http://www.runoob.com/python/att-string-format.html)\n",
    "## 常用格式化"
   ]
  },
  {
   "cell_type": "code",
   "execution_count": 60,
   "metadata": {},
   "outputs": [
    {
     "data": {
      "text/plain": [
       "'1*a*2*3'"
      ]
     },
     "execution_count": 60,
     "metadata": {},
     "output_type": "execute_result"
    }
   ],
   "source": [
    "# join函数，将A与B中的每部分结合成新的字符串\n",
    "'*'.join('1a23')"
   ]
  },
  {
   "cell_type": "code",
   "execution_count": 62,
   "metadata": {},
   "outputs": [
    {
     "data": {
      "text/plain": [
       "'----------------------center----------------------'"
      ]
     },
     "execution_count": 62,
     "metadata": {},
     "output_type": "execute_result"
    }
   ],
   "source": [
    "'center'.center(50,'-') #共打印50个字符，不足的用'-'补全"
   ]
  },
  {
   "cell_type": "code",
   "execution_count": 63,
   "metadata": {},
   "outputs": [
    {
     "data": {
      "text/plain": [
       "'left----------------------------------------------'"
      ]
     },
     "execution_count": 63,
     "metadata": {},
     "output_type": "execute_result"
    }
   ],
   "source": [
    "# 左调整\n",
    "'left'.ljust(50,'-') #共打印50个字符，不足的用'-'补全"
   ]
  },
  {
   "cell_type": "code",
   "execution_count": 64,
   "metadata": {},
   "outputs": [
    {
     "data": {
      "text/plain": [
       "'---------------------------------------------right'"
      ]
     },
     "execution_count": 64,
     "metadata": {},
     "output_type": "execute_result"
    }
   ],
   "source": [
    "# 右调整\n",
    "'right'.rjust(50,'-') #共打印50个字符，不足的用'-'补全"
   ]
  },
  {
   "cell_type": "markdown",
   "metadata": {},
   "source": [
    "## python三引号"
   ]
  },
  {
   "cell_type": "code",
   "execution_count": 18,
   "metadata": {
    "scrolled": true
   },
   "outputs": [
    {
     "name": "stdout",
     "output_type": "stream",
     "text": [
      "这是一个多行字符串的实例\n",
      "多行字符串可以使用制表符\n",
      "tab(\t)\n",
      "也可以使用换行符[\n",
      "]\n",
      "\n"
     ]
    }
   ],
   "source": [
    "para_str = '''这是一个多行字符串的实例\n",
    "多行字符串可以使用制表符\n",
    "tab(\\t)\n",
    "也可以使用换行符[\\n]\n",
    "'''\n",
    "print(para_str)"
   ]
  },
  {
   "cell_type": "markdown",
   "metadata": {},
   "source": [
    "## 字符串内建的函数\n",
    "\n",
    "下表实例变量a值为字符串 \"\\n left \\r this is center \\t right \\n\"\n",
    "\n",
    "方法|描述|实例|结果\n",
    ":-|-|-:\n",
    "strip()|去掉两边空格回车或指定字符|a.strip()|'left \\r this is center \\t right'\n",
    "lstrip()|去掉左边空格回车或指定字符|a.lstrip()|'left \\r this is center \\t right \\n'\n",
    "rstrip()|去掉右边空格回车或指定字符|a.rstrip()|'\\n left \\r this is center \\t right'\n",
    "split()|分割,默认空格,'str'会被去掉|a.split('t')|['\\n lef', ' \\r ', 'his is cen',  'er \\t righ', ' \\n']\n",
    "partition()|分割句子|a.partition('is')|('\\n left \\r this', ' is', ' center \\t right \\n')\n",
    "find()|查询索引，如果没有返回-1|a.find('this')|9\n",
    "count()|计数|a.count('is')|2\n",
    "isdigit()|判断是否只包含数字|'4 3'.isdigit()|False\n",
    "isalnum()|判断是否只包含字母数字|'asd34'.isalnum()|True\n",
    "isalpha()|判断是否只包含字母|'Asdf'.isalpha()|True\n",
    "replace()|替换内容|a.replace('t','T',2)|'\\n lefT \\r This is center \\t right \\n'\n",
    "swapcase()|大小写转换|'aBc'.swapcase()|'AbC'\n",
    "lower()|所有大写转换小写|'1Ab'.lower()|'1ab'\n",
    "upper()|所有小写转换大写|'1Ab'.upper()|'1AB'\n"
   ]
  }
 ],
 "metadata": {
  "kernelspec": {
   "display_name": "Python 3",
   "language": "python",
   "name": "python3"
  },
  "language_info": {
   "codemirror_mode": {
    "name": "ipython",
    "version": 3
   },
   "file_extension": ".py",
   "mimetype": "text/x-python",
   "name": "python",
   "nbconvert_exporter": "python",
   "pygments_lexer": "ipython3",
   "version": "3.6.8"
  }
 },
 "nbformat": 4,
 "nbformat_minor": 2
}
