{
 "cells": [
  {
   "cell_type": "markdown",
   "metadata": {},
   "source": [
    "# 字典\n",
    "需求：存储较复杂的信息。字典可以按照索引查询。列表中索引通过位置查询，而字典中不同。字典是key-value类型，可通过key进行查询。key必须是唯一的,天生去重。\n",
    "## 定义\n",
    "d = {key1 : value1, key2 : value2 }"
   ]
  },
  {
   "cell_type": "code",
   "execution_count": 21,
   "metadata": {},
   "outputs": [
    {
     "name": "stdout",
     "output_type": "stream",
     "text": [
      "dict['Name']:  Runoob\n",
      "dict['Age']:  7\n"
     ]
    }
   ],
   "source": [
    "dict = {'Name': 'Runoob', 'Age': 7, 'Class': 'First'}\n",
    " \n",
    "print (\"dict['Name']: \", dict['Name'])\n",
    "print (\"dict['Age']: \", dict['Age'])"
   ]
  },
  {
   "cell_type": "markdown",
   "metadata": {},
   "source": [
    "## 字典的修改"
   ]
  },
  {
   "cell_type": "code",
   "execution_count": 22,
   "metadata": {},
   "outputs": [
    {
     "name": "stdout",
     "output_type": "stream",
     "text": [
      "{'Name': 'Smith', 'Age': 10, 'Class': 'First', 'Hobby': 'basketball'}\n"
     ]
    }
   ],
   "source": [
    "dict['Name'] = 'Smith'\n",
    "dict['Age'] = 10\n",
    "# 如果已经存在\"hobby\"，保持不变，不存在则添加\n",
    "dict.setdefault(\"Hobby\",'basketball')\n",
    "dict.setdefault(\"Class\",'second')\n",
    "print(dict)"
   ]
  },
  {
   "cell_type": "code",
   "execution_count": 23,
   "metadata": {
    "scrolled": true
   },
   "outputs": [
    {
     "name": "stdout",
     "output_type": "stream",
     "text": [
      "{'Name': 'Smith', 'Age': 10, 'Class': 'First', 'Hobby': 'basketball'}\n"
     ]
    }
   ],
   "source": [
    "dict_new = {'Name': 'Runoob','Class': 'First'}\n",
    "dict_new.update(dict)\n",
    "print(dict)"
   ]
  },
  {
   "cell_type": "markdown",
   "metadata": {},
   "source": [
    "## 字典的删除"
   ]
  },
  {
   "cell_type": "code",
   "execution_count": 24,
   "metadata": {},
   "outputs": [
    {
     "name": "stdout",
     "output_type": "stream",
     "text": [
      "{'Name': 'Smith', 'Age': 10, 'Class': 'First'}\n",
      "{'Age': 10, 'Class': 'First'}\n"
     ]
    }
   ],
   "source": [
    "del dict['Hobby']\n",
    "print(dict)\n",
    "dict.pop('Name')\n",
    "print(dict)"
   ]
  },
  {
   "cell_type": "markdown",
   "metadata": {},
   "source": [
    "## 字典的查询"
   ]
  },
  {
   "cell_type": "code",
   "execution_count": 31,
   "metadata": {},
   "outputs": [
    {
     "name": "stdout",
     "output_type": "stream",
     "text": [
      "7\n",
      "7\n",
      "True\n",
      "dict_keys(['Name', 'Age', 'Class'])\n",
      "dict_values(['Runoob', 7, 'First'])\n",
      "dict_items([('Name', 'Runoob'), ('Age', 7), ('Class', 'First')])\n"
     ]
    }
   ],
   "source": [
    "dict = {'Name': 'Runoob', 'Age': 7, 'Class': 'First'}\n",
    "print(dict['Age'])\n",
    "print(dict.get('Age'))\n",
    "print('Age' in dict)\n",
    "print(dict.keys())\n",
    "print(dict.values())\n",
    "print(dict.items())"
   ]
  },
  {
   "cell_type": "markdown",
   "metadata": {},
   "source": [
    "## 多字典嵌套"
   ]
  },
  {
   "cell_type": "code",
   "execution_count": 32,
   "metadata": {},
   "outputs": [
    {
     "data": {
      "text/plain": [
       "'1995万'"
      ]
     },
     "execution_count": 32,
     "metadata": {},
     "output_type": "execute_result"
    }
   ],
   "source": [
    "capital_catalog = {\n",
    "    \"Asia\" : {\n",
    "        \"Beijing\":[\"China\",\"1.641万平方千米\",\"2170.7万\"],\n",
    "        \"Seoul\":[\"South Korea\",\"605.77平方千米\",\"1014万\"],\n",
    "        \"Tokyo\":[\"Japan\",\"2155平方千米\",\"3700万\"]\n",
    "    },\n",
    "    \"Europe\" : {\n",
    "        \"London\":[\"UK\",\"1577平方千米\",\"828万\"],\n",
    "        \"Roma\":[\"Italy\",\"1285.306平方公里\",\"286.8万\"]\n",
    "    },\n",
    "    \"Americas\" : {\n",
    "        \"Washington D.C\":[\"America\",\"177平方公里\",\"68.1万\"],\n",
    "        \"Buenos Aires\":[\"Argentina\",\"203平方公里\",\"1995万\"]\n",
    "    }\n",
    "}\n",
    "capital_catalog.get(\"Americas\").get(\"Buenos Aires\")[2]"
   ]
  },
  {
   "cell_type": "markdown",
   "metadata": {},
   "source": [
    "## 字典的循环"
   ]
  },
  {
   "cell_type": "code",
   "execution_count": 33,
   "metadata": {
    "scrolled": true
   },
   "outputs": [
    {
     "name": "stdout",
     "output_type": "stream",
     "text": [
      "stu1101 --> Zhao\n",
      "stu1102 --> Qian\n",
      "stu1103 --> Sun\n",
      "--------------------\n",
      "stu1101 --> Zhao\n",
      "stu1102 --> Qian\n",
      "stu1103 --> Sun\n"
     ]
    }
   ],
   "source": [
    "info = {\n",
    "    'stu1101': \"Zhao\",\n",
    "    'stu1102': \"Qian\",\n",
    "    'stu1103': \"Sun\"\n",
    "}\n",
    "# 建议使用的循环方式,高效\n",
    "for i in info:\n",
    "    print(i,'-->',info[i])\n",
    "    \n",
    "print(''.center(20,'-'))\n",
    "    \n",
    "# 建议使用的循环方式，低效\n",
    "for i,v in info.items():\n",
    "    print(i,'-->',v)"
   ]
  },
  {
   "cell_type": "markdown",
   "metadata": {},
   "source": [
    "## 作业三：三级菜单程序\n",
    "\n",
    "任务说明：\n",
    "\n",
    "    打印大洲、国家、主要城市三级菜单\n",
    "    可返回上一级\n",
    "    可随时退出程序\n",
    "\n"
   ]
  }
 ],
 "metadata": {
  "kernelspec": {
   "display_name": "Python 3",
   "language": "python",
   "name": "python3"
  },
  "language_info": {
   "codemirror_mode": {
    "name": "ipython",
    "version": 3
   },
   "file_extension": ".py",
   "mimetype": "text/x-python",
   "name": "python",
   "nbconvert_exporter": "python",
   "pygments_lexer": "ipython3",
   "version": "3.6.8"
  }
 },
 "nbformat": 4,
 "nbformat_minor": 2
}
