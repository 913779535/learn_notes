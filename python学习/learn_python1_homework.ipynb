{
 "cells": [
  {
   "cell_type": "markdown",
   "metadata": {},
   "source": [
    "## 作业一：编写登陆接口\n",
    "\n",
    "任务说明：\n",
    "\n",
    "    可输入用户名密码\n",
    "    与硬盘中数据比对后，认证成功则显示欢迎信息\n",
    "    输错三次后锁定，将该用户名存储到硬盘，拒绝该用户名下次登录\n",
    "\n"
   ]
  },
  {
   "cell_type": "markdown",
   "metadata": {},
   "source": [
    "text_create  \n",
    "在指定目录下建立文档记录用户名,密码  \n",
    "\n",
    "add_user\n",
    "为之前建立的文档添加用户信息  \n",
    "\n",
    "login  \n",
    "登录程序  \n",
    "\n",
    "verify\n",
    "验证程序"
   ]
  },
  {
   "cell_type": "code",
   "execution_count": 325,
   "metadata": {
    "collapsed": true
   },
   "outputs": [],
   "source": [
    "def text_create(name,path):\n",
    "    full_path = path + name +'.txt'\n",
    "    try:\n",
    "        file = open(full_path,'w')\n",
    "        file.write(\"用户名及其密码\")\n",
    "        file.close\n",
    "        print('done')\n",
    "    except Exception as e:\n",
    "        print(\"--> Error\",e)\n",
    "        \n",
    "def add_user():\n",
    "    name = input(\"请输入用户名:\")\n",
    "    password = getpass.getpass(\"请输入密码:\")\n",
    "    try:\n",
    "        file = open('./文档.txt',mode = 'a')\n",
    "        file.write('\\nname:'+name+'\\n'+'!'+'\\n'+password)\n",
    "        file.flush()\n",
    "        file.close()\n",
    "        print('done')\n",
    "    except Exception as e:\n",
    "        print(\"--> Error\",e)\n",
    "        \n",
    "def login():\n",
    "    for count in range(3):\n",
    "        name = input(\"请输入用户名:\")\n",
    "        password = getpass.getpass(\"请输入密码:\")\n",
    "        flag = verify(name,password,0)\n",
    "        if flag == 0:\n",
    "            print(\"账户已经被锁定,无法登录\")\n",
    "            break\n",
    "        elif flag == 1:\n",
    "            print(\"登录成功\")\n",
    "            break\n",
    "        else:\n",
    "            print(\"登录失败\")\n",
    "    else:\n",
    "        verify(name,password,1)\n",
    "        print(\"登录失败过多，账户已经被锁定\")\n",
    "        \n",
    "def verify(name,password,disable):\n",
    "    flag = 2\n",
    "    str = '不为空的字符'\n",
    "    with open('./文档.txt','r+') as file:\n",
    "        while str != '':\n",
    "            str = file.readline()\n",
    "            if str.split()==['name:'+name]:\n",
    "                if disable==1:\n",
    "                    index = file.tell()\n",
    "                    re = file.read()\n",
    "                    file.seek(index)\n",
    "                    file.write('!'+re)\n",
    "                    file.write(re[file.tell():])\n",
    "                    break\n",
    "                elif file.readline()=='!!\\n':\n",
    "                    flag = 0\n",
    "                    break\n",
    "                elif file.readline().split()==[password]:\n",
    "                    flag =1\n",
    "                    break\n",
    "    return flag"
   ]
  },
  {
   "cell_type": "code",
   "execution_count": 324,
   "metadata": {},
   "outputs": [
    {
     "name": "stdout",
     "output_type": "stream",
     "text": [
      "done\n",
      "请输入用户名:lzy\n",
      "请输入密码:········\n",
      "done\n",
      "请输入用户名:lm\n",
      "请输入密码:········\n",
      "done\n",
      "请输入用户名:lzy\n",
      "请输入密码:········\n",
      "登录失败\n",
      "请输入用户名:lzy\n",
      "请输入密码:········\n",
      "登录失败\n",
      "请输入用户名:lzy\n",
      "请输入密码:········\n",
      "登录失败\n",
      "登录失败过多，账户已经被锁定\n"
     ]
    }
   ],
   "source": [
    "import getpass\n",
    "path = './'\n",
    "\n",
    "text_create('文档',path)\n",
    "\n",
    "add_user()\n",
    "add_user()\n",
    "\n",
    "login()"
   ]
  },
  {
   "cell_type": "code",
   "execution_count": 327,
   "metadata": {
    "scrolled": true
   },
   "outputs": [
    {
     "name": "stdout",
     "output_type": "stream",
     "text": [
      "请输入用户名:lzy\n",
      "请输入密码:········\n",
      "账户已经被锁定,无法登录\n",
      "请输入用户名:lm\n",
      "请输入密码:········\n",
      "登录成功\n"
     ]
    }
   ],
   "source": [
    "login()\n",
    "login()"
   ]
  }
 ],
 "metadata": {
  "kernelspec": {
   "display_name": "Python 3",
   "language": "python",
   "name": "python3"
  },
  "language_info": {
   "codemirror_mode": {
    "name": "ipython",
    "version": 3
   },
   "file_extension": ".py",
   "mimetype": "text/x-python",
   "name": "python",
   "nbconvert_exporter": "python",
   "pygments_lexer": "ipython3",
   "version": "3.6.2"
  }
 },
 "nbformat": 4,
 "nbformat_minor": 2
}
