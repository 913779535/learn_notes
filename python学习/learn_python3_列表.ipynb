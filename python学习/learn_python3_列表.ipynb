{
 "cells": [
  {
   "cell_type": "markdown",
   "metadata": {},
   "source": [
    "# 列表,元组\n",
    "## 列表\n",
    "需求：将多个信息进行存贮  \n",
    "### 列表定义"
   ]
  },
  {
   "cell_type": "code",
   "execution_count": 1,
   "metadata": {
    "scrolled": true
   },
   "outputs": [
    {
     "data": {
      "text/plain": [
       "['Zhao', 'Qian', 'Sun', 'Li', 'Zhou', 'Wu', 'Zheng', 'Wang']"
      ]
     },
     "execution_count": 1,
     "metadata": {},
     "output_type": "execute_result"
    }
   ],
   "source": [
    "names = ['Zhao', 'Qian', 'Sun', 'Li', 'Zhou', 'Wu', 'Zheng', 'Wang']\n",
    "names"
   ]
  },
  {
   "cell_type": "markdown",
   "metadata": {},
   "source": [
    "### 列表的切片"
   ]
  },
  {
   "cell_type": "code",
   "execution_count": 4,
   "metadata": {},
   "outputs": [
    {
     "data": {
      "text/plain": [
       "['Qian']"
      ]
     },
     "execution_count": 4,
     "metadata": {},
     "output_type": "execute_result"
    }
   ],
   "source": [
    "# start:end:interval\n",
    "names[1:2]"
   ]
  },
  {
   "cell_type": "code",
   "execution_count": 5,
   "metadata": {},
   "outputs": [
    {
     "data": {
      "text/plain": [
       "['Zhou', 'Wu', 'Zheng', 'Wang']"
      ]
     },
     "execution_count": 5,
     "metadata": {},
     "output_type": "execute_result"
    }
   ],
   "source": [
    "names[4:]"
   ]
  },
  {
   "cell_type": "code",
   "execution_count": 6,
   "metadata": {},
   "outputs": [
    {
     "data": {
      "text/plain": [
       "['Zhao', 'Qian', 'Sun', 'Li', 'Zhou', 'Wu']"
      ]
     },
     "execution_count": 6,
     "metadata": {},
     "output_type": "execute_result"
    }
   ],
   "source": [
    "names[:-2]"
   ]
  },
  {
   "cell_type": "code",
   "execution_count": 8,
   "metadata": {},
   "outputs": [
    {
     "data": {
      "text/plain": [
       "['Sun', 'Zhou']"
      ]
     },
     "execution_count": 8,
     "metadata": {},
     "output_type": "execute_result"
    }
   ],
   "source": [
    "names[2:6:2]"
   ]
  },
  {
   "cell_type": "code",
   "execution_count": 10,
   "metadata": {},
   "outputs": [
    {
     "data": {
      "text/plain": [
       "['Zhao', 'Li', 'Zheng']"
      ]
     },
     "execution_count": 10,
     "metadata": {},
     "output_type": "execute_result"
    }
   ],
   "source": [
    "names[::3]"
   ]
  },
  {
   "cell_type": "markdown",
   "metadata": {},
   "source": [
    "### 列表追加与插入"
   ]
  },
  {
   "cell_type": "code",
   "execution_count": 15,
   "metadata": {},
   "outputs": [
    {
     "data": {
      "text/plain": [
       "['Li', 'Wang', 'Zhang']"
      ]
     },
     "execution_count": 15,
     "metadata": {},
     "output_type": "execute_result"
    }
   ],
   "source": [
    "# 追加\n",
    "names = ['Li','Wang']\n",
    "names.append('Zhang')\n",
    "names"
   ]
  },
  {
   "cell_type": "code",
   "execution_count": 16,
   "metadata": {},
   "outputs": [
    {
     "data": {
      "text/plain": [
       "['_insert0', 'Li', 'Wang', 'Zhang']"
      ]
     },
     "execution_count": 16,
     "metadata": {},
     "output_type": "execute_result"
    }
   ],
   "source": [
    "names.insert(0,'_insert0')\n",
    "names"
   ]
  },
  {
   "cell_type": "code",
   "execution_count": 17,
   "metadata": {},
   "outputs": [
    {
     "data": {
      "text/plain": [
       "['_insert0', 'Li', '_insert2', 'Wang', 'Zhang']"
      ]
     },
     "execution_count": 17,
     "metadata": {},
     "output_type": "execute_result"
    }
   ],
   "source": [
    "# 插入\n",
    "names.insert(2,'_insert2')\n",
    "names"
   ]
  },
  {
   "cell_type": "markdown",
   "metadata": {},
   "source": [
    "### 列表的修改与删除"
   ]
  },
  {
   "cell_type": "code",
   "execution_count": 23,
   "metadata": {},
   "outputs": [
    {
     "name": "stdout",
     "output_type": "stream",
     "text": [
      "['Zhao', 'Qian', 'Sun', 'Li_change', 'Li', 'Zhou', 'Wu', 'Zheng', 'Wang', 'Feng']\n"
     ]
    }
   ],
   "source": [
    "# 修改\n",
    "\n",
    "names = ['Zhao', 'Qian', 'Sun', 'Li_insert', 'Li', 'Zhou', 'Wu', 'Zheng', 'Wang', 'Feng']\n",
    "names[3] = 'Li_change'\n",
    "print(names)"
   ]
  },
  {
   "cell_type": "markdown",
   "metadata": {},
   "source": [
    "删除有三种方法"
   ]
  },
  {
   "cell_type": "code",
   "execution_count": 24,
   "metadata": {},
   "outputs": [
    {
     "name": "stdout",
     "output_type": "stream",
     "text": [
      "---> ['Zhao', 'Qian', 'Sun', 'Li', 'Zhou', 'Wu', 'Zheng', 'Wang', 'Feng']\n",
      "---> ['Zhao', 'Qian', 'Sun', 'Li', 'Zhou', 'Wu', 'Zheng', 'Feng']\n",
      "---> ['Zhao', 'Qian', 'Sun', 'Li', 'Zhou', 'Wu', 'Zheng']\n",
      "---> []\n"
     ]
    }
   ],
   "source": [
    "# 根据下标删除\n",
    "del names[3]\n",
    "print('--->',names)\n",
    "# 根据内容删除\n",
    "names.remove('Wang')\n",
    "print('--->',names)\n",
    "# 删除最后一个元素\n",
    "names.pop()\n",
    "print('--->',names)\n",
    "# 删除所有元素\n",
    "names.clear()\n",
    "print('--->',names)\n",
    "# 删除变量\n",
    "del names"
   ]
  },
  {
   "cell_type": "markdown",
   "metadata": {},
   "source": [
    "### 列表查询"
   ]
  },
  {
   "cell_type": "code",
   "execution_count": 25,
   "metadata": {},
   "outputs": [
    {
     "data": {
      "text/plain": [
       "3"
      ]
     },
     "execution_count": 25,
     "metadata": {},
     "output_type": "execute_result"
    }
   ],
   "source": [
    "# 列表、字典、字符串、集合等都可以用in判断元素是否存在\n",
    "names = ['Zhao', 'Qian', 'Sun', 'Li', 'Zhou', 'Wu', 'Zheng', 'Wang']\n",
    "names.index('Li')"
   ]
  },
  {
   "cell_type": "markdown",
   "metadata": {},
   "source": [
    "### 列表统计\n",
    "使用count"
   ]
  },
  {
   "cell_type": "code",
   "execution_count": 28,
   "metadata": {},
   "outputs": [
    {
     "data": {
      "text/plain": [
       "2"
      ]
     },
     "execution_count": 28,
     "metadata": {},
     "output_type": "execute_result"
    }
   ],
   "source": [
    "names = ['Zhao', 'Qian', 'Sun', 'Li', 'Zhou', 'Wu', 'Zheng', 'Wang', 'Li']\n",
    "names.count('Li')"
   ]
  },
  {
   "cell_type": "markdown",
   "metadata": {},
   "source": [
    "### 列表排序\n",
    "使用sort"
   ]
  },
  {
   "cell_type": "code",
   "execution_count": 29,
   "metadata": {},
   "outputs": [
    {
     "data": {
      "text/plain": [
       "['#Qian', '3Sun', '5Li', 'Wu', 'Zhao', 'Zheng', 'Zhou', 'wang']"
      ]
     },
     "execution_count": 29,
     "metadata": {},
     "output_type": "execute_result"
    }
   ],
   "source": [
    "names = ['Zhao', '#Qian', '3Sun', '5Li', 'Zhou', 'Wu', 'Zheng', 'wang']\n",
    "names.sort()  # 按照特殊符号、数字、大写、小写的顺序排序，不同类型的数据不能放在一起排序\n",
    "names"
   ]
  },
  {
   "cell_type": "markdown",
   "metadata": {},
   "source": [
    "### 列表反转\n",
    "使用reverse"
   ]
  },
  {
   "cell_type": "code",
   "execution_count": 30,
   "metadata": {},
   "outputs": [
    {
     "data": {
      "text/plain": [
       "['Wang', 'Zheng', 'Wu', 'Zhou', 'Li', 'Sun', 'Qian', 'Zhao']"
      ]
     },
     "execution_count": 30,
     "metadata": {},
     "output_type": "execute_result"
    }
   ],
   "source": [
    "names = ['Zhao', 'Qian', 'Sun', 'Li', 'Zhou', 'Wu', 'Zheng', 'Wang']\n",
    "names.reverse()\n",
    "names"
   ]
  },
  {
   "cell_type": "markdown",
   "metadata": {},
   "source": [
    "### 列表扩展\n",
    "使用extend"
   ]
  },
  {
   "cell_type": "code",
   "execution_count": 31,
   "metadata": {},
   "outputs": [
    {
     "data": {
      "text/plain": [
       "['Zhao', 'Qian', 'Sun', 'Li', 1, 2, 3, 4]"
      ]
     },
     "execution_count": 31,
     "metadata": {},
     "output_type": "execute_result"
    }
   ],
   "source": [
    "names1 = ['Zhao', 'Qian', 'Sun', 'Li']\n",
    "names2 = [1,2,3,4]\n",
    "names1.extend(names2)\n",
    "names1"
   ]
  },
  {
   "cell_type": "markdown",
   "metadata": {},
   "source": [
    "### 列表复制\n",
    "\n",
    "使用copy，浅复制(第一个复制，后面的为引用)"
   ]
  },
  {
   "cell_type": "code",
   "execution_count": 33,
   "metadata": {},
   "outputs": [
    {
     "name": "stdout",
     "output_type": "stream",
     "text": [
      "---> ['Zhao', 'Qian', 'Sun', 'Li', 'Zhou', 'Wu', 'Zheng', 'Wang']\n",
      "---> ['Zhao', 'Qian', 'Sun', 'Li', 'Zhou', 'Wu', 'Zheng', 'Wang']\n",
      "---> ['Zhao', 'Qian', 'Sun', ['Zhou', 'Wu', 'Zheng', 'Wang'], 'Li']\n",
      "---> ['Zhao', 'Qian', 'Sun', ['Zhou', 'ABBB', 'Zheng', 'Wang'], 'Li']\n",
      "---> ['', 'Qian', 'AXXX', ['Zhou', 'ABBB', 'Zheng', 'Wang'], 'Li']\n"
     ]
    }
   ],
   "source": [
    "names = ['Zhao', 'Qian', 'Sun', 'Li', 'Zhou', 'Wu', 'Zheng', 'Wang']\n",
    "name_copy = names.copy()  # 浅复制，仅复制第一层的内容，如果还有下一层，则直接复制下一层的地址。复制了变量的引用\n",
    "print('--->',name_copy)\n",
    "names = ['Zhao', 'Qian', 'Sun', 'Li']\n",
    "print('--->',name_copy)\n",
    "#################\n",
    "names = ['Zhao', 'Qian', 'Sun', [ 'Zhou', 'Wu', 'Zheng', 'Wang'], 'Li']\n",
    "name_copy = names.copy()  # 浅复制，仅复制第一层的内容。如果还有下一层，则直接复制下一层的地址。\n",
    "print('--->',name_copy)\n",
    "names[0] = '' # 没有修改name_copy的值\n",
    "names[3][1] = 'ABBB'  # 修改了原始内容\n",
    "names[2] = 'AXXX'  # 修改了原始内容\n",
    "print('--->',name_copy)\n",
    "print('--->',names)"
   ]
  },
  {
   "cell_type": "markdown",
   "metadata": {},
   "source": [
    "使用'='，是对原对象的引用，两者指向同一内存"
   ]
  },
  {
   "cell_type": "markdown",
   "metadata": {},
   "source": [
    "使用copy模块"
   ]
  },
  {
   "cell_type": "code",
   "execution_count": 34,
   "metadata": {
    "collapsed": true
   },
   "outputs": [],
   "source": [
    "import copy\n",
    "# 浅复制\n",
    "name_copy = copy.copy(names)  \n",
    "# 浅复制，仅复制第一层的内容，后面内容为引用\n",
    "name_deepcopy = copy.deepcopy(names)\n",
    "# 完全的复制"
   ]
  },
  {
   "cell_type": "markdown",
   "metadata": {},
   "source": [
    "### 列表循环\n",
    "for"
   ]
  },
  {
   "cell_type": "code",
   "execution_count": 37,
   "metadata": {},
   "outputs": [
    {
     "name": "stdout",
     "output_type": "stream",
     "text": [
      "a\n",
      "b\n",
      "c\n",
      "d\n"
     ]
    }
   ],
   "source": [
    "names = ['a','b','c','d']\n",
    "for i in names:\n",
    "    print(i)"
   ]
  },
  {
   "cell_type": "markdown",
   "metadata": {},
   "source": [
    "### 列表长度函数"
   ]
  },
  {
   "cell_type": "code",
   "execution_count": 38,
   "metadata": {},
   "outputs": [
    {
     "data": {
      "text/plain": [
       "5"
      ]
     },
     "execution_count": 38,
     "metadata": {},
     "output_type": "execute_result"
    }
   ],
   "source": [
    "names = ['Zhao', 'qian', 'Sun', [ 'Zhou', 'Wu', 'Zheng', 'Wang'], 'Li']\n",
    "len(names)"
   ]
  },
  {
   "cell_type": "markdown",
   "metadata": {},
   "source": [
    "### 循环打印\n",
    "使用for，加上enumerate函数得到下标"
   ]
  },
  {
   "cell_type": "code",
   "execution_count": 40,
   "metadata": {},
   "outputs": [
    {
     "name": "stdout",
     "output_type": "stream",
     "text": [
      "0 Zhao\n",
      "1 qian\n",
      "2 Sun\n",
      "3 ['Zhou', 'Wu', 'Zheng', 'Wang']\n",
      "4 Li\n"
     ]
    }
   ],
   "source": [
    "for index,i in enumerate(names):\n",
    "    print(index,i)"
   ]
  },
  {
   "cell_type": "markdown",
   "metadata": {},
   "source": [
    "### 关于列表的操作符\n",
    "\n",
    "python表达式|结果|描述\n",
    ":-|:-|:-\n",
    "[1,2,3]+[4,5,6]|[1,2,3,4,5,6]|组合\n",
    "['hi']$*$2|['hi','hi']|重复\n",
    "3 in [1,2,3]|True|元素是否在列表中\n"
   ]
  },
  {
   "cell_type": "markdown",
   "metadata": {},
   "source": [
    "### 列表推导式书写形式"
   ]
  },
  {
   "cell_type": "code",
   "execution_count": null,
   "metadata": {
    "collapsed": true
   },
   "outputs": [],
   "source": [
    "statement for variable in _list\n",
    "\n",
    "statement for variable in _list if condition"
   ]
  },
  {
   "cell_type": "code",
   "execution_count": 60,
   "metadata": {},
   "outputs": [
    {
     "data": {
      "text/plain": [
       "[2, 4, 6, 8]"
      ]
     },
     "execution_count": 60,
     "metadata": {},
     "output_type": "execute_result"
    }
   ],
   "source": [
    "num = [1,2,3,4]\n",
    "[i*2 for i in num]"
   ]
  },
  {
   "cell_type": "code",
   "execution_count": 61,
   "metadata": {},
   "outputs": [
    {
     "data": {
      "text/plain": [
       "[9, 12]"
      ]
     },
     "execution_count": 61,
     "metadata": {},
     "output_type": "execute_result"
    }
   ],
   "source": [
    "[i*3 for i in num if i>2]"
   ]
  },
  {
   "cell_type": "code",
   "execution_count": 64,
   "metadata": {},
   "outputs": [
    {
     "data": {
      "text/plain": [
       "[6, 6, 6, 6]"
      ]
     },
     "execution_count": 64,
     "metadata": {},
     "output_type": "execute_result"
    }
   ],
   "source": [
    "add = [5,4,3,2]\n",
    "[num[i]+add[i] for i in range(len(num))]"
   ]
  },
  {
   "cell_type": "code",
   "execution_count": 67,
   "metadata": {},
   "outputs": [
    {
     "data": {
      "text/plain": [
       "[6, 6, 6, 6]"
      ]
     },
     "execution_count": 67,
     "metadata": {},
     "output_type": "execute_result"
    }
   ],
   "source": [
    "[num[index]+add[index] for index,i in enumerate(num)]"
   ]
  },
  {
   "cell_type": "markdown",
   "metadata": {},
   "source": [
    "## 元组\n",
    "需求：将多个信息进行存储。它一旦创建，便不能再修改，所以又叫只读列表。只能切片、查询\n",
    "### 定义"
   ]
  },
  {
   "cell_type": "code",
   "execution_count": 44,
   "metadata": {},
   "outputs": [
    {
     "data": {
      "text/plain": [
       "('Zhao', 'qian', 'Sun', 'Li')"
      ]
     },
     "execution_count": 44,
     "metadata": {},
     "output_type": "execute_result"
    }
   ],
   "source": [
    "names = ('Zhao', 'qian', 'Sun', 'Li')\n",
    "names"
   ]
  },
  {
   "cell_type": "markdown",
   "metadata": {},
   "source": [
    "它只有2个方法，一个是count,一个是index"
   ]
  },
  {
   "cell_type": "code",
   "execution_count": 45,
   "metadata": {},
   "outputs": [
    {
     "data": {
      "text/plain": [
       "1"
      ]
     },
     "execution_count": 45,
     "metadata": {},
     "output_type": "execute_result"
    }
   ],
   "source": [
    "names = ('Zhao', 'qian', 'Sun', 'Li')\n",
    "names.count('Li')"
   ]
  },
  {
   "cell_type": "code",
   "execution_count": 46,
   "metadata": {},
   "outputs": [
    {
     "data": {
      "text/plain": [
       "3"
      ]
     },
     "execution_count": 46,
     "metadata": {},
     "output_type": "execute_result"
    }
   ],
   "source": [
    "names = ('Zhao', 'qian', 'Sun', 'Li')\n",
    "names.index('Li')"
   ]
  },
  {
   "cell_type": "markdown",
   "metadata": {},
   "source": [
    "## 作业二：购物车程序\n",
    "\n",
    "任务说明：\n",
    "\n",
    "    启动程序后，让用户输入工资，然后打印商品列表\n",
    "    允许用户根据商品编号购买商品\n",
    "    用户选择商品后，检测余额是否够，够就直接扣款，不够就提醒\n",
    "    可随时退出，退出时，打印已购买商品和余额\n",
    "\n"
   ]
  }
 ],
 "metadata": {
  "kernelspec": {
   "display_name": "Python 3",
   "language": "python",
   "name": "python3"
  },
  "language_info": {
   "codemirror_mode": {
    "name": "ipython",
    "version": 3
   },
   "file_extension": ".py",
   "mimetype": "text/x-python",
   "name": "python",
   "nbconvert_exporter": "python",
   "pygments_lexer": "ipython3",
   "version": "3.6.8"
  }
 },
 "nbformat": 4,
 "nbformat_minor": 2
}
